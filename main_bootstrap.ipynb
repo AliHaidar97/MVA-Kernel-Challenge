{
 "cells": [
  {
   "cell_type": "code",
   "execution_count": 1,
   "metadata": {},
   "outputs": [],
   "source": [
    "import pickle as pkl \n",
    "import pandas as pd\n",
    "import numpy as np\n",
    "import matplotlib.pyplot as plt\n",
    "import networkx as nx\n",
    "import utils\n",
    "import models\n",
    "import kernels.KShortestPathKernel as KShortestPathKernel\n",
    "import kernels.ShortestPathKernel as  ShortestPathKernel\n",
    "import kernels.RandomWalkKernel as RandomWalkKernel\n",
    "import kernels.WalkKernel as WalkKernel"
   ]
  },
  {
   "cell_type": "code",
   "execution_count": 96,
   "metadata": {},
   "outputs": [],
   "source": [
    "path = 'data/'\n",
    "with open(path + 'training_data.pkl', 'rb') as file: \n",
    "    train_graphs = pkl.load(file) \n",
    "\n",
    "with open(path + 'test_data.pkl', 'rb') as file: \n",
    "    test_graphs = pkl.load(file) \n",
    "    \n",
    "with open(path + 'training_labels.pkl', 'rb') as file: \n",
    "    train_labels = pkl.load(file) "
   ]
  },
  {
   "cell_type": "code",
   "execution_count": 97,
   "metadata": {},
   "outputs": [],
   "source": [
    "for G in train_graphs:\n",
    "    for e in G.nodes:\n",
    "        G.nodes[e]['labels'] = [G.nodes[e]['labels'][0], 1]\n",
    "\n",
    "for G in test_graphs:\n",
    "    for e in G.nodes:\n",
    "        G.nodes[e]['labels'] = [G.nodes[e]['labels'][0], 1]\n",
    "\n",
    "for G in train_graphs:\n",
    "    for e in G.edges:\n",
    "        G.edges[e]['labels'] = G.edges[e]['labels'][0] + 1\n",
    "\n",
    "for G in test_graphs:\n",
    "    for e in G.edges:\n",
    "        G.edges[e]['labels'] = G.edges[e]['labels'][0] + 1\n",
    "        "
   ]
  },
  {
   "cell_type": "code",
   "execution_count": 98,
   "metadata": {},
   "outputs": [],
   "source": [
    "import copy\n",
    "def morgan_index(graphs):\n",
    "    \n",
    "    for (i,G) in enumerate(graphs):\n",
    "        K = copy.deepcopy(G)\n",
    "        for node in G.nodes:\n",
    "            K.nodes[node]['labels'][1] = 0\n",
    "            for x in G.neighbors(node):\n",
    "                K.nodes[node]['labels'][1]  += G.nodes[x]['labels'][1]\n",
    "        graphs[i] = K "
   ]
  },
  {
   "cell_type": "code",
   "execution_count": 99,
   "metadata": {},
   "outputs": [],
   "source": [
    "for i in range(1):\n",
    "    morgan_index(train_graphs)\n",
    "    morgan_index(test_graphs)"
   ]
  },
  {
   "cell_type": "code",
   "execution_count": 100,
   "metadata": {},
   "outputs": [],
   "source": [
    "one_train = []\n",
    "zero_train = []\n",
    "for (i,G) in enumerate(train_graphs):\n",
    "    if(train_labels[i] == 0):\n",
    "        zero_train.append(G)\n",
    "    else:\n",
    "        one_train.append(G)    "
   ]
  },
  {
   "cell_type": "code",
   "execution_count": 101,
   "metadata": {},
   "outputs": [
    {
     "name": "stdout",
     "output_type": "stream",
     "text": [
      "5445\n",
      "555\n"
     ]
    }
   ],
   "source": [
    "print(len(zero_train))\n",
    "print(len(one_train))"
   ]
  },
  {
   "cell_type": "code",
   "execution_count": 102,
   "metadata": {},
   "outputs": [],
   "source": [
    "n = len(zero_train)//9\n",
    "  \n",
    "# using list comprehension\n",
    "chunck_train = [zero_train[i:i + n] for i in range(0, len(zero_train), n)]\n",
    "#chunck_train[-2] += chunck_train[-1]\n",
    "#chunck_train = chunck_train[:-1]"
   ]
  },
  {
   "cell_type": "code",
   "execution_count": 103,
   "metadata": {},
   "outputs": [],
   "source": [
    "train_graphs = []\n",
    "train_labels = []\n",
    "\n",
    "for G in chunck_train:\n",
    "    train_graphs.append(one_train + G)\n",
    "    train_labels.append([1]*len(one_train) + [0]*len(G))"
   ]
  },
  {
   "cell_type": "code",
   "execution_count": 105,
   "metadata": {},
   "outputs": [
    {
     "data": {
      "text/plain": [
       "(array([0, 1]), array([605, 555], dtype=int64))"
      ]
     },
     "execution_count": 105,
     "metadata": {},
     "output_type": "execute_result"
    }
   ],
   "source": [
    "np.unique(train_labels[-1], return_counts= True)"
   ]
  },
  {
   "cell_type": "code",
   "execution_count": 106,
   "metadata": {},
   "outputs": [
    {
     "name": "stderr",
     "output_type": "stream",
     "text": [
      "100%|██████████| 1160/1160 [00:11<00:00, 101.23it/s]\n",
      "100%|██████████| 1160/1160 [00:10<00:00, 114.03it/s]\n",
      "100%|██████████| 1160/1160 [03:30<00:00,  5.52it/s]\n",
      "100%|██████████| 1160/1160 [04:56<00:00,  3.92it/s]\n",
      "100%|██████████| 1160/1160 [00:07<00:00, 147.65it/s]\n",
      "100%|██████████| 1160/1160 [00:07<00:00, 145.72it/s]\n",
      "100%|██████████| 1160/1160 [03:16<00:00,  5.89it/s]\n",
      "100%|██████████| 1160/1160 [04:03<00:00,  4.76it/s]\n",
      "100%|██████████| 1160/1160 [00:05<00:00, 193.93it/s]\n",
      "100%|██████████| 1160/1160 [00:07<00:00, 151.04it/s]\n",
      "100%|██████████| 1160/1160 [03:12<00:00,  6.01it/s]\n",
      "100%|██████████| 1160/1160 [02:37<00:00,  7.37it/s]\n",
      "100%|██████████| 1160/1160 [00:03<00:00, 327.26it/s]\n",
      "100%|██████████| 1160/1160 [00:03<00:00, 332.18it/s]\n",
      "100%|██████████| 1160/1160 [01:34<00:00, 12.28it/s]\n",
      "100%|██████████| 1160/1160 [02:11<00:00,  8.79it/s]\n",
      "100%|██████████| 1160/1160 [00:02<00:00, 406.84it/s]\n",
      "100%|██████████| 1160/1160 [00:02<00:00, 407.63it/s]\n",
      "100%|██████████| 1160/1160 [01:19<00:00, 14.55it/s]\n",
      "100%|██████████| 1160/1160 [01:53<00:00, 10.25it/s]\n",
      "100%|██████████| 1160/1160 [00:03<00:00, 349.55it/s]\n",
      "100%|██████████| 1160/1160 [00:03<00:00, 347.41it/s]\n",
      "100%|██████████| 1160/1160 [01:29<00:00, 12.92it/s]\n",
      "100%|██████████| 1160/1160 [02:07<00:00,  9.10it/s]\n",
      "100%|██████████| 1160/1160 [00:02<00:00, 430.68it/s]\n",
      "100%|██████████| 1160/1160 [00:02<00:00, 420.35it/s]\n",
      "100%|██████████| 1160/1160 [01:17<00:00, 14.91it/s]\n",
      "100%|██████████| 1160/1160 [01:50<00:00, 10.49it/s]\n",
      "100%|██████████| 1160/1160 [00:02<00:00, 448.49it/s]\n",
      "100%|██████████| 1160/1160 [00:02<00:00, 430.29it/s]\n",
      "100%|██████████| 1160/1160 [01:17<00:00, 15.04it/s]\n",
      "100%|██████████| 1160/1160 [01:47<00:00, 10.84it/s]\n",
      "100%|██████████| 1160/1160 [00:03<00:00, 352.89it/s]\n",
      "100%|██████████| 1160/1160 [00:03<00:00, 350.85it/s]\n",
      "100%|██████████| 1160/1160 [01:34<00:00, 12.23it/s]\n",
      "100%|██████████| 1160/1160 [02:06<00:00,  9.20it/s]\n"
     ]
    }
   ],
   "source": [
    "randomWalk = WalkKernel.WalkKernel(maxK = 100)  \n",
    "shortestPath = ShortestPathKernel.ShortestPath()\n",
    "K_train = []\n",
    "for i in range(len(train_graphs)):\n",
    "    K_train.append(shortestPath.compute_kernel(train_graphs[i],train_graphs[i])  + randomWalk.compute_kernel(train_graphs[i],train_graphs[i]))"
   ]
  },
  {
   "cell_type": "code",
   "execution_count": 107,
   "metadata": {},
   "outputs": [],
   "source": [
    "from scipy import optimize\n",
    "from scipy.linalg import cho_factor, cho_solve\n",
    "import numpy as np\n",
    "import cvxopt\n",
    "import cvxopt.solvers\n",
    "from sklearn.base import BaseEstimator\n",
    "def to_binary(y):\n",
    "    return ((y + 1) / 2).astype(int)\n",
    "\n",
    "def sigmoid(x):\n",
    "    return 1/(1 + np.exp(-x))\n",
    "\n",
    "class KernelSVC(BaseEstimator):\n",
    "    \n",
    "    def __init__(self, C, epsilon = 1e-3):\n",
    "        self.type = 'non-linear'\n",
    "        self.C = C                                     \n",
    "        self.alpha = None\n",
    "        self.epsilon = epsilon\n",
    "        self.norm_f = None\n",
    "        self.a = None\n",
    "       \n",
    "    \n",
    "    def fit(self, K_train, y):\n",
    "        \n",
    "\n",
    "        y = np.array(y)\n",
    "       \n",
    "        #### You might define here any variable needed for the rest of the code\n",
    "        N = len(y)\n",
    "        \n",
    "        K_train += 1   \n",
    "        \n",
    "        # Set up quadratic programming problem\n",
    "        P = cvxopt.matrix(np.outer(y, y) * K_train)\n",
    "        q = cvxopt.matrix(-1 * np.ones(N))\n",
    "        G = cvxopt.matrix(np.vstack((-1 * np.eye(N), np.eye(N))))\n",
    "        h = cvxopt.matrix(np.hstack((np.zeros(N), self.C * np.ones(N))))\n",
    "        A = cvxopt.matrix(y.reshape(1, -1)) * 1.0\n",
    "        b = cvxopt.matrix(np.zeros(1))\n",
    "        # Solve the quadratic program using cvxopt       \n",
    "        cvxopt.solvers.options['show_progress'] = True\n",
    "        solution = cvxopt.solvers.qp(P, q, G, h, A, b)\n",
    "        # Lagrange multipliers\n",
    "        self.alpha = np.ravel(solution['x'])\n",
    "        \n",
    "        \n",
    "        #clip\n",
    "        self.alpha[self.alpha < 1e-5] = 0\n",
    "        ## Assign the required attributes\n",
    "        self.a = np.diag(y)@self.alpha \n",
    "        f = K_train@self.a\n",
    "        mask = ((self.alpha < self.C) & (self.alpha > 0))\n",
    "        self.b =  np.median((1 - y[mask]*f[mask])/y[mask]) #''' -----------------offset of the classifier------------------ '''\n",
    "        self.norm_f = self.a.T@K_train@self.a   #'''------------------------RKHS norm of the function f ------------------------------'''\n",
    "       \n",
    "\n",
    "    ### Implementation of the separting function $f$ \n",
    "    def separating_function(self, K_test):\n",
    "        # Input : matrix x of shape N data points times d dimension\n",
    "        # Output: vector of size N\n",
    "        K_test += 1\n",
    "        return K_test@self.a\n",
    "    \n",
    "    \n",
    "    def predict(self, K_test):\n",
    "        \"\"\" Predict y values in {-1, 1} \"\"\"\n",
    "        d = self.separating_function(K_test)\n",
    "        return 2 * ((d+self.b)> 0) - 1\n",
    "    \n",
    "    def predict_proba(self, X):\n",
    "        d = self.separating_function(X)\n",
    "        return sigmoid(d + self.b)"
   ]
  },
  {
   "cell_type": "code",
   "execution_count": 21,
   "metadata": {},
   "outputs": [],
   "source": [
    "y_train = np.array(train_labels)\n",
    "y_train = 2*y_train-1"
   ]
  },
  {
   "cell_type": "code",
   "execution_count": 118,
   "metadata": {},
   "outputs": [
    {
     "name": "stderr",
     "output_type": "stream",
     "text": [
      "100%|██████████| 14/14 [00:10<00:00,  1.35it/s]\n"
     ]
    },
    {
     "name": "stdout",
     "output_type": "stream",
     "text": [
      "0.9\n",
      "[0.8909623095733232, 0.9025810982317983, 0.9096969013300319, 0.9147955154474771, 0.9185342694224173, 0.9200289750265094, 0.921283262395562, 0.92146344191315, 0.92174792522001, 0.9215206941585775, 0.9211009990596821, 0.9204729741385064, 0.9196650259321826, 0.9193084448432429]\n",
      "[0.9] 0.92174792522001\n"
     ]
    },
    {
     "name": "stderr",
     "output_type": "stream",
     "text": [
      "100%|██████████| 14/14 [00:08<00:00,  1.68it/s]\n"
     ]
    },
    {
     "name": "stdout",
     "output_type": "stream",
     "text": [
      "0.8\n",
      "[0.907620464119347, 0.9248090791784946, 0.9329742279797006, 0.938269564549078, 0.9416949928604001, 0.9433247014253799, 0.943607359534448, 0.9440843545162773, 0.9438293618905547, 0.9436316501066596, 0.9434495324567076, 0.9434176089699413, 0.9434019665749844, 0.9434328722489779]\n",
      "[0.9, 0.8] 0.9440843545162773\n"
     ]
    },
    {
     "name": "stderr",
     "output_type": "stream",
     "text": [
      "100%|██████████| 14/14 [00:08<00:00,  1.69it/s]\n"
     ]
    },
    {
     "name": "stdout",
     "output_type": "stream",
     "text": [
      "0.8\n",
      "[0.8683816770707686, 0.8862686471215167, 0.8945688115790815, 0.8977265826266312, 0.8992211109234738, 0.9007487404843608, 0.9007199979758209, 0.9009587495566803, 0.9007054375587009, 0.9005579716148988, 0.9003808842073493, 0.9004271503774361, 0.8996362304018861, 0.9000434629874279]\n",
      "[0.9, 0.8, 0.8] 0.9009587495566803\n"
     ]
    },
    {
     "name": "stderr",
     "output_type": "stream",
     "text": [
      "100%|██████████| 14/14 [00:08<00:00,  1.58it/s]\n"
     ]
    },
    {
     "name": "stdout",
     "output_type": "stream",
     "text": [
      "0.6\n",
      "[0.8688688173384085, 0.8885923035099046, 0.8944303124381576, 0.8961734935046655, 0.8968392000897424, 0.8976372044009511, 0.8968094155749551, 0.8969247533132879, 0.8960525350979118, 0.8954812233485716, 0.8948060967635734, 0.894250568447789, 0.8938596924565996, 0.8938727060453642]\n",
      "[0.9, 0.8, 0.8, 0.6] 0.8976372044009511\n"
     ]
    },
    {
     "name": "stderr",
     "output_type": "stream",
     "text": [
      "100%|██████████| 14/14 [00:08<00:00,  1.61it/s]\n"
     ]
    },
    {
     "name": "stdout",
     "output_type": "stream",
     "text": [
      "0.4\n",
      "[0.9058923577744536, 0.9205263764712901, 0.9243216974670553, 0.9251433212445827, 0.924933035220253, 0.9248112885600344, 0.9239744954277025, 0.923750074549089, 0.9234496100115006, 0.9227895842382287, 0.9220988516763693, 0.9221277908208017, 0.9218737480023128, 0.9215299254644437]\n",
      "[0.9, 0.8, 0.8, 0.6, 0.4] 0.9251433212445827\n"
     ]
    },
    {
     "name": "stderr",
     "output_type": "stream",
     "text": [
      "100%|██████████| 14/14 [00:08<00:00,  1.60it/s]\n"
     ]
    },
    {
     "name": "stdout",
     "output_type": "stream",
     "text": [
      "1.0\n",
      "[0.8988503874343365, 0.9167435730075008, 0.9226654706101998, 0.9252808056653746, 0.9269571642806467, 0.9283760944517567, 0.9283902909171102, 0.9290189057684974, 0.9292410723677783, 0.9295092673279501, 0.9294020360252508, 0.9294174330372298, 0.9288344383880757, 0.9285066824630073]\n",
      "[0.9, 0.8, 0.8, 0.6, 0.4, 1.0] 0.9295092673279501\n"
     ]
    },
    {
     "name": "stderr",
     "output_type": "stream",
     "text": [
      "100%|██████████| 14/14 [00:07<00:00,  1.77it/s]\n"
     ]
    },
    {
     "name": "stdout",
     "output_type": "stream",
     "text": [
      "0.6\n",
      "[0.9043726120879411, 0.9206562790498841, 0.9252386085208342, 0.9258236769103148, 0.9256926610879594, 0.925840412664732, 0.9252867299940288, 0.9240001152047199, 0.9231599830390657, 0.9227108462376432, 0.9221576982751843, 0.9217249546323002, 0.9223207327920298, 0.9219312823319885]\n",
      "[0.9, 0.8, 0.8, 0.6, 0.4, 1.0, 0.6] 0.925840412664732\n"
     ]
    },
    {
     "name": "stderr",
     "output_type": "stream",
     "text": [
      "100%|██████████| 14/14 [00:07<00:00,  1.87it/s]\n"
     ]
    },
    {
     "name": "stdout",
     "output_type": "stream",
     "text": [
      "0.9\n",
      "[0.9566041315326178, 0.9624177225300977, 0.9649383201432562, 0.9660886579038973, 0.966371332536945, 0.9669087646117702, 0.9671324915599422, 0.9670419860646968, 0.9674897046269837, 0.9673692346203063, 0.9671004465487998, 0.9671295981546411, 0.9670549598643067, 0.9670398935651109]\n",
      "[0.9, 0.8, 0.8, 0.6, 0.4, 1.0, 0.6, 0.9] 0.9674897046269837\n"
     ]
    },
    {
     "name": "stderr",
     "output_type": "stream",
     "text": [
      "100%|██████████| 14/14 [00:07<00:00,  1.77it/s]"
     ]
    },
    {
     "name": "stdout",
     "output_type": "stream",
     "text": [
      "0.9\n",
      "[0.9187481577156784, 0.9304454693665507, 0.9366706653555577, 0.9399433135480122, 0.9417815480721708, 0.9426911012511244, 0.943720962680531, 0.9441974179054384, 0.9444647044475708, 0.944387891941029, 0.944075077220975, 0.9438340177801001, 0.9437122889961314, 0.9433690635378292]\n",
      "[0.9, 0.8, 0.8, 0.6, 0.4, 1.0, 0.6, 0.9, 0.9] 0.9444647044475708\n"
     ]
    },
    {
     "name": "stderr",
     "output_type": "stream",
     "text": [
      "\n"
     ]
    }
   ],
   "source": [
    "from sklearn.model_selection import cross_val_score\n",
    "from sklearn.svm import SVC\n",
    "from sklearn.model_selection import StratifiedKFold\n",
    "from sklearn.model_selection import KFold\n",
    "from tqdm import tqdm\n",
    "list_c = []\n",
    "for l in range(len(K_train)):\n",
    "    c = np.arange(0.1,1.5,0.1)\n",
    "    scores = []\n",
    "    for C in tqdm(c):\n",
    "        for i in range(2):\n",
    "            s = []\n",
    "            skf = KFold(n_splits=5, random_state=i, shuffle=True)\n",
    "            score = cross_val_score(SVC(C = C, kernel='precomputed',  probability=True, class_weight='balanced'), K_train[l], train_labels[l], cv=skf, scoring = 'roc_auc')\n",
    "            s.append(score.reshape(-1))\n",
    "        scores.append(np.mean(s))\n",
    "    print(c[np.argsort(scores)[-1]])\n",
    "    list_c.append(c[np.argsort(scores)[-1]])\n",
    "    print(list_c,np.sort(scores)[-1])"
   ]
  },
  {
   "cell_type": "code",
   "execution_count": 120,
   "metadata": {},
   "outputs": [
    {
     "name": "stdout",
     "output_type": "stream",
     "text": [
      "1.4000000000000001 0.9444647044475708\n"
     ]
    }
   ],
   "source": [
    "print(C,np.sort(scores)[-1])"
   ]
  },
  {
   "cell_type": "code",
   "execution_count": 119,
   "metadata": {},
   "outputs": [
    {
     "data": {
      "text/plain": [
       "[0.9, 0.8, 0.8, 0.6, 0.4, 1.0, 0.6, 0.9, 0.9]"
      ]
     },
     "execution_count": 119,
     "metadata": {},
     "output_type": "execute_result"
    }
   ],
   "source": [
    "list_c"
   ]
  },
  {
   "attachments": {},
   "cell_type": "markdown",
   "metadata": {},
   "source": [
    "## Make Prediction"
   ]
  },
  {
   "cell_type": "code",
   "execution_count": 121,
   "metadata": {},
   "outputs": [
    {
     "name": "stderr",
     "output_type": "stream",
     "text": [
      "100%|██████████| 2000/2000 [00:21<00:00, 94.59it/s] \n",
      "100%|██████████| 1160/1160 [00:08<00:00, 142.08it/s]\n",
      "100%|██████████| 2000/2000 [06:19<00:00,  5.27it/s]\n",
      "100%|██████████| 2000/2000 [08:36<00:00,  3.87it/s]\n",
      "100%|██████████| 2000/2000 [00:18<00:00, 106.41it/s]\n",
      "100%|██████████| 1160/1160 [00:07<00:00, 158.63it/s]\n",
      "100%|██████████| 2000/2000 [06:10<00:00,  5.39it/s]\n",
      "100%|██████████| 2000/2000 [08:35<00:00,  3.88it/s]\n",
      "100%|██████████| 2000/2000 [00:19<00:00, 101.92it/s]\n",
      "100%|██████████| 1160/1160 [00:04<00:00, 266.61it/s]\n",
      "100%|██████████| 2000/2000 [05:32<00:00,  6.02it/s]\n",
      "100%|██████████| 2000/2000 [07:34<00:00,  4.40it/s]\n",
      "100%|██████████| 2000/2000 [00:18<00:00, 110.67it/s]\n",
      "100%|██████████| 1160/1160 [00:03<00:00, 341.24it/s]\n",
      "100%|██████████| 2000/2000 [04:58<00:00,  6.70it/s]\n",
      "100%|██████████| 2000/2000 [06:33<00:00,  5.08it/s]\n",
      "100%|██████████| 2000/2000 [00:18<00:00, 109.94it/s]\n",
      "100%|██████████| 1160/1160 [00:02<00:00, 420.14it/s]\n",
      "100%|██████████| 2000/2000 [04:48<00:00,  6.93it/s]\n",
      "100%|██████████| 2000/2000 [06:20<00:00,  5.25it/s]\n",
      "100%|██████████| 2000/2000 [00:18<00:00, 109.37it/s]\n",
      "100%|██████████| 1160/1160 [00:03<00:00, 355.82it/s]\n",
      "100%|██████████| 2000/2000 [04:56<00:00,  6.74it/s]\n",
      "100%|██████████| 2000/2000 [06:35<00:00,  5.06it/s]\n",
      "100%|██████████| 2000/2000 [00:18<00:00, 110.85it/s]\n",
      "100%|██████████| 1160/1160 [00:02<00:00, 422.74it/s]\n",
      "100%|██████████| 2000/2000 [04:50<00:00,  6.88it/s]\n",
      "100%|██████████| 2000/2000 [06:22<00:00,  5.23it/s]\n",
      "100%|██████████| 2000/2000 [00:18<00:00, 110.03it/s]\n",
      "100%|██████████| 1160/1160 [00:02<00:00, 445.75it/s]\n",
      "100%|██████████| 2000/2000 [04:47<00:00,  6.95it/s]\n",
      "100%|██████████| 2000/2000 [06:21<00:00,  5.24it/s]\n",
      "100%|██████████| 2000/2000 [00:18<00:00, 109.96it/s]\n",
      "100%|██████████| 1160/1160 [00:03<00:00, 355.66it/s]\n",
      "100%|██████████| 2000/2000 [04:51<00:00,  6.86it/s]\n",
      "100%|██████████| 2000/2000 [06:32<00:00,  5.09it/s]\n"
     ]
    }
   ],
   "source": [
    "K_test = []\n",
    "for i in  range(len(train_graphs)):\n",
    "    K_test.append(shortestPath.compute_kernel(test_graphs,train_graphs[i])  + randomWalk.compute_kernel(test_graphs,train_graphs[i]))    "
   ]
  },
  {
   "cell_type": "code",
   "execution_count": 138,
   "metadata": {},
   "outputs": [],
   "source": [
    "from sklearn.svm import SVC\n",
    "from sklearn.metrics import accuracy_score\n",
    "y_pred = []\n",
    "for i in range(len(train_graphs)):\n",
    "    clf = SVC(C = list_c[i], kernel='precomputed',  probability=True)\n",
    "    #clf = models.KernelSVC(C=1)\n",
    "    # Fit on the train Kernel\n",
    "    clf.fit(K_train[i], train_labels[i])\n",
    "\n",
    "    # Predict and test.\n",
    "    y = clf.predict_proba(K_test[i])[:,1]\n",
    "    #y = np.log(y/(1-y))\n",
    "    y_pred.append(y)"
   ]
  },
  {
   "cell_type": "code",
   "execution_count": 139,
   "metadata": {},
   "outputs": [
    {
     "data": {
      "text/plain": [
       "(2000,)"
      ]
     },
     "execution_count": 139,
     "metadata": {},
     "output_type": "execute_result"
    }
   ],
   "source": [
    "y_pred = np.array(y_pred)\n",
    "y_pred = np.mean(y_pred,axis=0)\n",
    "y_pred.shape"
   ]
  },
  {
   "cell_type": "code",
   "execution_count": 143,
   "metadata": {},
   "outputs": [],
   "source": [
    "y_pred = np.log(y_pred/(1-y_pred))"
   ]
  },
  {
   "cell_type": "code",
   "execution_count": 144,
   "metadata": {},
   "outputs": [],
   "source": [
    "sub = pd.DataFrame()\n",
    "sub['Id']= np.arange(1,len(y_pred)+1)\n",
    "sub['Predicted'] = y_pred\n",
    "sub.to_csv(\"submissions/sub.csv\",index=False)"
   ]
  },
  {
   "cell_type": "code",
   "execution_count": 145,
   "metadata": {},
   "outputs": [
    {
     "data": {
      "text/plain": [
       "0.4745"
      ]
     },
     "execution_count": 145,
     "metadata": {},
     "output_type": "execute_result"
    }
   ],
   "source": [
    "y_sub = pd.read_csv(\"submissions/sub.csv\")\n",
    "y_sub = np.array(y_sub['Predicted'])\n",
    "y_sub[y_sub< 0 ] = 0\n",
    "y_sub[y_sub>0] = 1\n",
    "np.sum(y_sub)/len(y_sub)"
   ]
  },
  {
   "cell_type": "code",
   "execution_count": 146,
   "metadata": {},
   "outputs": [
    {
     "data": {
      "text/plain": [
       "0.111"
      ]
     },
     "execution_count": 146,
     "metadata": {},
     "output_type": "execute_result"
    }
   ],
   "source": [
    "y_sub = pd.read_csv(\"submissions/sub_089.csv\")\n",
    "y_sub = np.array(y_sub['Predicted'])\n",
    "y_sub[y_sub< 0 ] = 0\n",
    "y_sub[y_sub>0] = 1\n",
    "np.sum(y_sub)/len(y_sub)"
   ]
  },
  {
   "cell_type": "code",
   "execution_count": 32,
   "metadata": {},
   "outputs": [],
   "source": [
    "y_bootstrap = pd.read_csv(\"submissions/sub_bootstrap.csv\")\n",
    "y_best_weights = pd.read_csv(\"submissions/sub_best_weights.csv\")\n",
    "y_best_no_weights = pd.read_csv(\"submissions/sub_best_no_weights.csv\")"
   ]
  },
  {
   "cell_type": "code",
   "execution_count": 33,
   "metadata": {},
   "outputs": [],
   "source": [
    "y_bootstrap = np.array(y_bootstrap['Predicted'])\n",
    "y_best_weights = np.array(y_best_weights['Predicted'])\n",
    "y_best_no_weights = np.array(y_best_no_weights['Predicted'])"
   ]
  },
  {
   "cell_type": "code",
   "execution_count": 46,
   "metadata": {},
   "outputs": [],
   "source": [
    "y_bootstrap_labels = np.where(y_bootstrap<2.0556, 0, 1)\n",
    "y_best_weights_labels = np.where(y_best_weights<0, 0, 1)\n",
    "y_best_no_weights_labels = np.where(y_best_no_weights<0, 0, 1)"
   ]
  },
  {
   "cell_type": "code",
   "execution_count": 47,
   "metadata": {},
   "outputs": [
    {
     "name": "stdout",
     "output_type": "stream",
     "text": [
      "(array([0, 1]), array([1776,  224], dtype=int64))\n",
      "(array([0, 1]), array([1777,  223], dtype=int64))\n",
      "(array([0, 1]), array([1777,  223], dtype=int64))\n"
     ]
    }
   ],
   "source": [
    "print(np.unique(y_bootstrap_labels,return_counts=True))\n",
    "print(np.unique(y_best_weights_labels,return_counts=True))\n",
    "print(np.unique(y_best_weights_labels,return_counts=True))"
   ]
  },
  {
   "cell_type": "code",
   "execution_count": null,
   "metadata": {},
   "outputs": [],
   "source": []
  }
 ],
 "metadata": {
  "kernelspec": {
   "display_name": "Python 3",
   "language": "python",
   "name": "python3"
  },
  "language_info": {
   "codemirror_mode": {
    "name": "ipython",
    "version": 3
   },
   "file_extension": ".py",
   "mimetype": "text/x-python",
   "name": "python",
   "nbconvert_exporter": "python",
   "pygments_lexer": "ipython3",
   "version": "3.10.11"
  },
  "orig_nbformat": 4,
  "vscode": {
   "interpreter": {
    "hash": "fbccc05dc4c888eb06191605395e1f3420714a4fab311b29cb06bebce36a9c54"
   }
  }
 },
 "nbformat": 4,
 "nbformat_minor": 2
}
