{
 "cells": [
  {
   "cell_type": "code",
   "execution_count": 51,
   "metadata": {},
   "outputs": [],
   "source": [
    "import pickle as pkl \n",
    "import pandas as pd\n",
    "import numpy as np\n",
    "import matplotlib.pyplot as plt\n",
    "import networkx as nx\n",
    "import utils\n",
    "import models\n",
    "import GraphKernel\n",
    "from MKLpy.algorithms import AverageMKL, EasyMKL, KOMD, MEMO, PWMK, FHeuristic, CKA"
   ]
  },
  {
   "cell_type": "code",
   "execution_count": 52,
   "metadata": {},
   "outputs": [],
   "source": [
    "path = 'data/'\n",
    "with open(path + 'training_data.pkl', 'rb') as file: \n",
    "    train_graphs = pkl.load(file) \n",
    "\n",
    "with open(path + 'test_data.pkl', 'rb') as file: \n",
    "    test_graphs = pkl.load(file) \n",
    "    \n",
    "with open(path + 'training_labels.pkl', 'rb') as file: \n",
    "    train_labels = pkl.load(file) "
   ]
  },
  {
   "cell_type": "code",
   "execution_count": 53,
   "metadata": {},
   "outputs": [],
   "source": [
    "for G in train_graphs:\n",
    "    for e in G.nodes:\n",
    "        G.nodes[e]['labels'] = [G.nodes[e]['labels'][0], 1]\n",
    "\n",
    "for G in test_graphs:\n",
    "    for e in G.nodes:\n",
    "        G.nodes[e]['labels'] = [G.nodes[e]['labels'][0], 1]\n",
    "\n",
    "for G in train_graphs:\n",
    "    for e in G.edges:\n",
    "        G.edges[e]['labels'] = G.edges[e]['labels'][0] + 1\n",
    "\n",
    "for G in test_graphs:\n",
    "    for e in G.edges:\n",
    "        G.edges[e]['labels'] = G.edges[e]['labels'][0] + 1\n",
    "        "
   ]
  },
  {
   "cell_type": "code",
   "execution_count": 54,
   "metadata": {},
   "outputs": [],
   "source": [
    "import copy\n",
    "def morgan_index(graphs):\n",
    "    \n",
    "    for (i,G) in enumerate(graphs):\n",
    "        K = copy.deepcopy(G)\n",
    "        for node in G.nodes:\n",
    "            K.nodes[node]['labels'][1] = 0\n",
    "            for x in G.neighbors(node):\n",
    "                K.nodes[node]['labels'][1]  += G.nodes[x]['labels'][1]\n",
    "        graphs[i] = K "
   ]
  },
  {
   "cell_type": "code",
   "execution_count": 55,
   "metadata": {},
   "outputs": [],
   "source": [
    "for i in range(1):\n",
    "    morgan_index(train_graphs)\n",
    "    morgan_index(test_graphs)"
   ]
  },
  {
   "cell_type": "code",
   "execution_count": 56,
   "metadata": {},
   "outputs": [],
   "source": [
    "one_train = []\n",
    "zero_train = []\n",
    "for (i,G) in enumerate(train_graphs):\n",
    "    if(train_labels[i] == 0):\n",
    "        zero_train.append(G)\n",
    "    else:\n",
    "        one_train.append(G)    "
   ]
  },
  {
   "cell_type": "code",
   "execution_count": 57,
   "metadata": {},
   "outputs": [],
   "source": [
    "n = 1000\n",
    "train_graphs = one_train\n",
    "train_labels = [1]*len(one_train)\n",
    "for G in zero_train:\n",
    "    if(len(train_graphs) == n):\n",
    "        break\n",
    "    train_graphs.append(G)\n",
    "    train_labels.append(0)\n"
   ]
  },
  {
   "cell_type": "code",
   "execution_count": 58,
   "metadata": {},
   "outputs": [],
   "source": [
    "zero_train = zero_train[n:]\n",
    "y_zeros = np.zeros(len(zero_train))"
   ]
  },
  {
   "cell_type": "code",
   "execution_count": 59,
   "metadata": {},
   "outputs": [
    {
     "data": {
      "text/plain": [
       "0"
      ]
     },
     "execution_count": 59,
     "metadata": {},
     "output_type": "execute_result"
    }
   ],
   "source": [
    "len(zero_train)"
   ]
  },
  {
   "cell_type": "code",
   "execution_count": 60,
   "metadata": {},
   "outputs": [
    {
     "name": "stderr",
     "output_type": "stream",
     "text": [
      "100%|██████████| 6000/6000 [1:01:06<00:00,  1.64it/s]\n",
      "100%|██████████| 6000/6000 [00:22<00:00, 261.70it/s]\n",
      "100%|██████████| 6000/6000 [00:23<00:00, 259.02it/s]\n",
      "100%|██████████| 6000/6000 [42:56<00:00,  2.33it/s]  \n"
     ]
    }
   ],
   "source": [
    "#from grakel import ShortestPath\n",
    "#gk = ShortestPath(with_labels=True)\n",
    "#K_train = gk.fit_transform(train_graphs)\n",
    "\n",
    "randomWalk = GraphKernel.WalkKernel(maxK = 100)  #GraphKernel.WalkKernel(maxK = 3) #GraphKernel.ShortestPath()#\n",
    "shortestPath = GraphKernel.ShortestPath()\n",
    "K_train = randomWalk.compute_kernel(train_graphs,train_graphs) + shortestPath.compute_kernel(train_graphs,train_graphs)\n",
    "#K_train.append(K_1)\n",
    "\n",
    "#from sklearn.model_selection import train_test_split\n",
    "#X_train, X_test, y_train, y_test = train_test_split(train_graphs, train_labels, test_size=0.3, random_state=100,stratify=train_labels)\n",
    "#X_train_K = randomWalk.compute_kernel(X_train,X_train)# + shortestPath.compute_kernel(X_train,X_train)\n",
    "#X_test_K = randomWalk.compute_kernel(X_test,X_train) #+ shortestPath.compute_kernel(X_test,X_train)\n",
    "#K_zero = randomWalk.compute_kernel(zero_train,train_graphs) #+ shortestPath.compute_kernel(zero_train,train_graphs)\n"
   ]
  },
  {
   "cell_type": "code",
   "execution_count": 61,
   "metadata": {},
   "outputs": [],
   "source": [
    "K_train[np.isnan(K_train)] = 0"
   ]
  },
  {
   "cell_type": "code",
   "execution_count": 62,
   "metadata": {},
   "outputs": [],
   "source": [
    "#from sklearn.svm import SVC\n",
    "#clf = EasyMKL(learner=SVC(C = 1, kernel='precomputed',  probability=True, class_weight='balanced')).fit(K_train, train_labels)\n",
    "#clf.solution.weights"
   ]
  },
  {
   "cell_type": "code",
   "execution_count": 63,
   "metadata": {},
   "outputs": [],
   "source": [
    "#K_train_t = 0\n",
    "#for i in range(len(clf.solution.weights)):\n",
    "#    K_train_t+= K_train[i]*np.array(clf.solution.weights)[i]"
   ]
  },
  {
   "cell_type": "code",
   "execution_count": 64,
   "metadata": {},
   "outputs": [],
   "source": [
    "C = 1"
   ]
  },
  {
   "cell_type": "code",
   "execution_count": 82,
   "metadata": {},
   "outputs": [
    {
     "name": "stderr",
     "output_type": "stream",
     "text": [
      "100%|██████████| 14/14 [02:32<00:00, 10.87s/it]"
     ]
    },
    {
     "name": "stdout",
     "output_type": "stream",
     "text": [
      "[0.9148923708693696, 0.9205409631623199, 0.9211183104040659, 0.9214928175374032, 0.921873554794049, 0.9218173957137962, 0.9211254082437454, 0.92095907124039, 0.9206278772781111, 0.9205736576664465, 0.920352571352263, 0.920143916517009, 0.9197528703370784, 0.9198265260461825]\n",
      "0.5 0.921873554794049\n"
     ]
    },
    {
     "name": "stderr",
     "output_type": "stream",
     "text": [
      "\n"
     ]
    }
   ],
   "source": [
    "from sklearn.model_selection import cross_val_score\n",
    "from sklearn.svm import SVC\n",
    "from sklearn.model_selection import StratifiedKFold\n",
    "from sklearn.model_selection import KFold\n",
    "from tqdm import tqdm\n",
    "\n",
    "c = np.arange(0.1,1.5,0.1)\n",
    "scores = []\n",
    "for C in tqdm(c):\n",
    "    for i in range(2):\n",
    "        s = []\n",
    "        skf = KFold(n_splits=5, random_state=i, shuffle=True)\n",
    "        score = cross_val_score(SVC(C = C, kernel='precomputed',  probability=True, class_weight='balanced'), K_train, train_labels, cv=skf, scoring = 'roc_auc')\n",
    "        s.append(score.reshape(-1))\n",
    "    scores.append(np.mean(s))\n",
    "\n",
    "C =  c[np.argsort(scores)[-1]]\n",
    "print(scores)\n",
    "print(C,np.sort(scores)[-1])"
   ]
  },
  {
   "cell_type": "code",
   "execution_count": 83,
   "metadata": {},
   "outputs": [
    {
     "name": "stdout",
     "output_type": "stream",
     "text": [
      "0.5 0.921873554794049\n"
     ]
    }
   ],
   "source": [
    "print(C,np.sort(scores)[-1])"
   ]
  },
  {
   "cell_type": "code",
   "execution_count": 67,
   "metadata": {},
   "outputs": [
    {
     "data": {
      "text/plain": [
       "'\\nfrom sklearn.svm import SVC\\nfrom sklearn.metrics import accuracy_score\\nclf = SVC(C = C, kernel=\\'precomputed\\',  probability=True,class_weight=\\'balanced\\')\\n\\n# Fit on the train Kernel\\nclf.fit(K_train, train_labels)\\n\\nif(K_zero.shape[0] > 0):\\n    # Predict and test.\\n    y_pred = clf.predict(K_zero)\\n\\n    print(\"Classification accuracy: %0.2f\" % accuracy_score(y_zeros, y_pred))\\n'"
      ]
     },
     "execution_count": 67,
     "metadata": {},
     "output_type": "execute_result"
    }
   ],
   "source": [
    "'''\n",
    "from sklearn.svm import SVC\n",
    "from sklearn.metrics import accuracy_score\n",
    "clf = SVC(C = C, kernel='precomputed',  probability=True,class_weight='balanced')\n",
    "\n",
    "# Fit on the train Kernel\n",
    "clf.fit(K_train, train_labels)\n",
    "\n",
    "if(K_zero.shape[0] > 0):\n",
    "    # Predict and test.\n",
    "    y_pred = clf.predict(K_zero)\n",
    "\n",
    "    print(\"Classification accuracy: %0.2f\" % accuracy_score(y_zeros, y_pred))\n",
    "'''"
   ]
  },
  {
   "cell_type": "code",
   "execution_count": 68,
   "metadata": {},
   "outputs": [
    {
     "data": {
      "text/plain": [
       "\"\\nfrom sklearn.metrics import confusion_matrix\\nfrom sklearn import metrics\\nif(K_zero.shape[0] > 0):\\n    y_pred = clf.predict(K_zero)\\n    #tn, fp, fn, tp = confusion_matrix(y_train, y_pred,normalize='true').ravel()\\n    confusion_matrix = confusion_matrix(y_zeros, y_pred,normalize='true')\\n    cm_display = metrics.ConfusionMatrixDisplay(confusion_matrix = confusion_matrix, display_labels = [False, True])\\n    cm_display.plot()\\n    plt.show()\\n\""
      ]
     },
     "execution_count": 68,
     "metadata": {},
     "output_type": "execute_result"
    }
   ],
   "source": [
    "'''\n",
    "from sklearn.metrics import confusion_matrix\n",
    "from sklearn import metrics\n",
    "if(K_zero.shape[0] > 0):\n",
    "    y_pred = clf.predict(K_zero)\n",
    "    #tn, fp, fn, tp = confusion_matrix(y_train, y_pred,normalize='true').ravel()\n",
    "    confusion_matrix = confusion_matrix(y_zeros, y_pred,normalize='true')\n",
    "    cm_display = metrics.ConfusionMatrixDisplay(confusion_matrix = confusion_matrix, display_labels = [False, True])\n",
    "    cm_display.plot()\n",
    "    plt.show()\n",
    "'''"
   ]
  },
  {
   "cell_type": "code",
   "execution_count": 69,
   "metadata": {},
   "outputs": [
    {
     "data": {
      "text/plain": [
       "'\\nif(K_zero.shape[0] > 0):\\n    from sklearn.metrics import plot_roc_curve, auc \\n    plot_roc_curve(clf, K_zero, y_zeros)\\n'"
      ]
     },
     "execution_count": 69,
     "metadata": {},
     "output_type": "execute_result"
    }
   ],
   "source": [
    "'''\n",
    "if(K_zero.shape[0] > 0):\n",
    "    from sklearn.metrics import plot_roc_curve, auc \n",
    "    plot_roc_curve(clf, K_zero, y_zeros)\n",
    "'''"
   ]
  },
  {
   "cell_type": "code",
   "execution_count": 70,
   "metadata": {},
   "outputs": [
    {
     "data": {
      "text/plain": [
       "'\\nfrom sklearn.svm import SVC\\nfrom sklearn.metrics import accuracy_score\\nclf = SVC(C = C, kernel=\\'precomputed\\',  probability=True,class_weight=\\'balanced\\')\\n\\n# Fit on the train Kernel\\nclf.fit(X_train_K, y_train)\\n\\n# Predict and test.\\ny_pred = clf.predict(X_test_K)\\n\\nprint(\"Classification accuracy: %0.2f\" % accuracy_score(y_test, y_pred))\\nfrom sklearn.metrics import plot_roc_curve, auc \\nplot_roc_curve(clf, X_test_K, y_test)\\n'"
      ]
     },
     "execution_count": 70,
     "metadata": {},
     "output_type": "execute_result"
    }
   ],
   "source": [
    "'''\n",
    "from sklearn.svm import SVC\n",
    "from sklearn.metrics import accuracy_score\n",
    "clf = SVC(C = C, kernel='precomputed',  probability=True,class_weight='balanced')\n",
    "\n",
    "# Fit on the train Kernel\n",
    "clf.fit(X_train_K, y_train)\n",
    "\n",
    "# Predict and test.\n",
    "y_pred = clf.predict(X_test_K)\n",
    "\n",
    "print(\"Classification accuracy: %0.2f\" % accuracy_score(y_test, y_pred))\n",
    "from sklearn.metrics import plot_roc_curve, auc \n",
    "plot_roc_curve(clf, X_test_K, y_test)\n",
    "'''"
   ]
  },
  {
   "cell_type": "code",
   "execution_count": 71,
   "metadata": {},
   "outputs": [
    {
     "data": {
      "text/plain": [
       "\"\\nfrom sklearn.metrics import confusion_matrix\\nfrom sklearn import metrics\\ny_pred = clf.predict(X_test_K)\\n#tn, fp, fn, tp = confusion_matrix(y_train, y_pred,normalize='true').ravel()\\nconfusion_matrix = confusion_matrix(y_test, y_pred,normalize='true')\\ncm_display = metrics.ConfusionMatrixDisplay(confusion_matrix = confusion_matrix, display_labels = [False, True])\\ncm_display.plot()\\nplt.show()\\n\""
      ]
     },
     "execution_count": 71,
     "metadata": {},
     "output_type": "execute_result"
    }
   ],
   "source": [
    "'''\n",
    "from sklearn.metrics import confusion_matrix\n",
    "from sklearn import metrics\n",
    "y_pred = clf.predict(X_test_K)\n",
    "#tn, fp, fn, tp = confusion_matrix(y_train, y_pred,normalize='true').ravel()\n",
    "confusion_matrix = confusion_matrix(y_test, y_pred,normalize='true')\n",
    "cm_display = metrics.ConfusionMatrixDisplay(confusion_matrix = confusion_matrix, display_labels = [False, True])\n",
    "cm_display.plot()\n",
    "plt.show()\n",
    "'''"
   ]
  },
  {
   "cell_type": "code",
   "execution_count": 72,
   "metadata": {},
   "outputs": [
    {
     "data": {
      "text/plain": [
       "'\\nfrom sklearn.metrics import plot_roc_curve, auc \\nplot_roc_curve(clf, X_test_K, y_test)\\n'"
      ]
     },
     "execution_count": 72,
     "metadata": {},
     "output_type": "execute_result"
    }
   ],
   "source": [
    "'''\n",
    "from sklearn.metrics import plot_roc_curve, auc \n",
    "plot_roc_curve(clf, X_test_K, y_test)\n",
    "'''"
   ]
  },
  {
   "cell_type": "code",
   "execution_count": 73,
   "metadata": {},
   "outputs": [
    {
     "name": "stderr",
     "output_type": "stream",
     "text": [
      "100%|██████████| 2000/2000 [33:13<00:00,  1.00it/s]  \n",
      "100%|██████████| 2000/2000 [00:17<00:00, 115.38it/s]\n",
      "100%|██████████| 6000/6000 [00:22<00:00, 265.98it/s]\n",
      "100%|██████████| 2000/2000 [23:27<00:00,  1.42it/s] \n"
     ]
    }
   ],
   "source": [
    "K_test = randomWalk.compute_kernel(test_graphs,train_graphs) + shortestPath.compute_kernel(test_graphs,train_graphs) "
   ]
  },
  {
   "cell_type": "code",
   "execution_count": 74,
   "metadata": {},
   "outputs": [],
   "source": [
    "y_train = train_labels\n",
    "y_train = np.array(y_train).reshape(-1)"
   ]
  },
  {
   "cell_type": "code",
   "execution_count": 84,
   "metadata": {},
   "outputs": [
    {
     "name": "stdout",
     "output_type": "stream",
     "text": [
      "Classification accuracy: 0.97\n"
     ]
    }
   ],
   "source": [
    "from sklearn.svm import SVC\n",
    "from sklearn.metrics import accuracy_score\n",
    "clf = SVC(C = C, kernel='precomputed',  probability=True,class_weight='balanced')\n",
    "\n",
    "# Fit on the train Kernel\n",
    "clf.fit(K_train, y_train)\n",
    "\n",
    "# Predict and test.\n",
    "y_pred = clf.predict(K_train)\n",
    "\n",
    "print(\"Classification accuracy: %0.2f\" % accuracy_score(y_train, y_pred))"
   ]
  },
  {
   "cell_type": "code",
   "execution_count": 85,
   "metadata": {},
   "outputs": [
    {
     "data": {
      "image/png": "[encoded data removed]",
      "text/plain": [
       "<Figure size 640x480 with 2 Axes>"
      ]
     },
     "metadata": {},
     "output_type": "display_data"
    }
   ],
   "source": [
    "from sklearn.metrics import confusion_matrix\n",
    "from sklearn import metrics\n",
    "y_pred = clf.predict(K_train)\n",
    "#tn, fp, fn, tp = confusion_matrix(y_train, y_pred,normalize='true').ravel()\n",
    "confusion_matrix = confusion_matrix(y_train, y_pred,normalize='true')\n",
    "cm_display = metrics.ConfusionMatrixDisplay(confusion_matrix = confusion_matrix, display_labels = [False, True])\n",
    "cm_display.plot()\n",
    "plt.show()"
   ]
  },
  {
   "cell_type": "code",
   "execution_count": 86,
   "metadata": {},
   "outputs": [
    {
     "name": "stderr",
     "output_type": "stream",
     "text": [
      "C:\\Users\\aliha\\AppData\\Local\\Packages\\PythonSoftwareFoundation.Python.3.10_qbz5n2kfra8p0\\LocalCache\\local-packages\\Python310\\site-packages\\sklearn\\utils\\deprecation.py:87: FutureWarning: Function plot_roc_curve is deprecated; Function :func:`plot_roc_curve` is deprecated in 1.0 and will be removed in 1.2. Use one of the class methods: :meth:`sklearn.metrics.RocCurveDisplay.from_predictions` or :meth:`sklearn.metrics.RocCurveDisplay.from_estimator`.\n",
      "  warnings.warn(msg, category=FutureWarning)\n"
     ]
    },
    {
     "data": {
      "text/plain": [
       "<sklearn.metrics._plot.roc_curve.RocCurveDisplay at 0x212becddf90>"
      ]
     },
     "execution_count": 86,
     "metadata": {},
     "output_type": "execute_result"
    },
    {
     "data": {
      "image/png": "[encoded data removed]",
      "text/plain": [
       "<Figure size 640x480 with 1 Axes>"
      ]
     },
     "metadata": {},
     "output_type": "display_data"
    }
   ],
   "source": [
    "from sklearn.metrics import plot_roc_curve, auc \n",
    "plot_roc_curve(clf, K_train, y_train)"
   ]
  },
  {
   "cell_type": "code",
   "execution_count": 87,
   "metadata": {},
   "outputs": [
    {
     "data": {
      "text/plain": [
       "array([-3.54272285, -1.76084809, -3.55866296, ..., -3.77969762,\n",
       "        1.33086898, -3.84209781])"
      ]
     },
     "execution_count": 87,
     "metadata": {},
     "output_type": "execute_result"
    }
   ],
   "source": [
    "y_pred = clf.predict_proba(K_test)[:,1]\n",
    "y_pred = np.log(y_pred/(1-y_pred))\n",
    "y_pred"
   ]
  },
  {
   "cell_type": "code",
   "execution_count": 88,
   "metadata": {},
   "outputs": [],
   "source": [
    "sub = pd.DataFrame()\n",
    "sub['Id']= np.arange(1,len(y_pred)+1)\n",
    "sub['Predicted'] = y_pred\n",
    "sub.to_csv(\"submissions/sub.csv\",index=False)"
   ]
  },
  {
   "cell_type": "code",
   "execution_count": 89,
   "metadata": {},
   "outputs": [
    {
     "data": {
      "text/plain": [
       "0.104"
      ]
     },
     "execution_count": 89,
     "metadata": {},
     "output_type": "execute_result"
    }
   ],
   "source": [
    "y_sub = pd.read_csv(\"submissions/sub.csv\")\n",
    "y_sub = np.array(y_sub['Predicted'])\n",
    "y_sub[y_sub< 0 ] = 0\n",
    "y_sub[y_sub>0] = 1\n",
    "np.sum(y_sub)/len(y_sub)"
   ]
  },
  {
   "cell_type": "code",
   "execution_count": 90,
   "metadata": {},
   "outputs": [
    {
     "data": {
      "text/plain": [
       "0.111"
      ]
     },
     "execution_count": 90,
     "metadata": {},
     "output_type": "execute_result"
    }
   ],
   "source": [
    "y_sub = pd.read_csv(\"submissions/sub_089.csv\")\n",
    "y_sub = np.array(y_sub['Predicted'])\n",
    "y_sub[y_sub< 0 ] = 0\n",
    "y_sub[y_sub>0] = 1\n",
    "np.sum(y_sub)/len(y_sub)"
   ]
  },
  {
   "cell_type": "code",
   "execution_count": null,
   "metadata": {},
   "outputs": [],
   "source": []
  },
  {
   "cell_type": "code",
   "execution_count": null,
   "metadata": {},
   "outputs": [],
   "source": []
  }
 ],
 "metadata": {
  "kernelspec": {
   "display_name": "Python 3",
   "language": "python",
   "name": "python3"
  },
  "language_info": {
   "codemirror_mode": {
    "name": "ipython",
    "version": 3
   },
   "file_extension": ".py",
   "mimetype": "text/x-python",
   "name": "python",
   "nbconvert_exporter": "python",
   "pygments_lexer": "ipython3",
   "version": "3.10.10"
  },
  "orig_nbformat": 4,
  "vscode": {
   "interpreter": {
    "hash": "fbccc05dc4c888eb06191605395e1f3420714a4fab311b29cb06bebce36a9c54"
   }
  }
 },
 "nbformat": 4,
 "nbformat_minor": 2
}
