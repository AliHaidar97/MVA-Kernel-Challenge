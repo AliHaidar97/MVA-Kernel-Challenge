{
 "cells": [
  {
   "cell_type": "code",
   "execution_count": 1,
   "metadata": {},
   "outputs": [],
   "source": [
    "import pickle as pkl \n",
    "import pandas as pd\n",
    "import numpy as np\n",
    "import matplotlib.pyplot as plt\n",
    "import networkx as nx\n",
    "import utils\n",
    "import models\n",
    "import kernels.KShortestPathKernel as KShortestPathKernel\n",
    "import kernels.ShortestPathKernel as  ShortestPathKernel\n",
    "import kernels.RandomWalkKernel as RandomWalkKernel\n",
    "import kernels.WalkKernel as WalkKernel"
   ]
  },
  {
   "cell_type": "code",
   "execution_count": 2,
   "metadata": {},
   "outputs": [],
   "source": [
    "path = 'data/'\n",
    "with open(path + 'training_data.pkl', 'rb') as file: \n",
    "    train_graphs = pkl.load(file) \n",
    "\n",
    "with open(path + 'test_data.pkl', 'rb') as file: \n",
    "    test_graphs = pkl.load(file) \n",
    "    \n",
    "with open(path + 'training_labels.pkl', 'rb') as file: \n",
    "    train_labels = pkl.load(file) "
   ]
  },
  {
   "cell_type": "code",
   "execution_count": 3,
   "metadata": {},
   "outputs": [],
   "source": [
    "for G in train_graphs:\n",
    "    for e in G.nodes:\n",
    "        G.nodes[e]['labels'] = [G.nodes[e]['labels'][0], 1]\n",
    "\n",
    "for G in test_graphs:\n",
    "    for e in G.nodes:\n",
    "        G.nodes[e]['labels'] = [G.nodes[e]['labels'][0], 1]\n",
    "\n",
    "for G in train_graphs:\n",
    "    for e in G.edges:\n",
    "        G.edges[e]['labels'] = G.edges[e]['labels'][0] + 1\n",
    "\n",
    "for G in test_graphs:\n",
    "    for e in G.edges:\n",
    "        G.edges[e]['labels'] = G.edges[e]['labels'][0] + 1\n",
    "        "
   ]
  },
  {
   "cell_type": "code",
   "execution_count": 4,
   "metadata": {},
   "outputs": [],
   "source": [
    "import copy\n",
    "def morgan_index(graphs):\n",
    "    \n",
    "    for (i,G) in enumerate(graphs):\n",
    "        K = copy.deepcopy(G)\n",
    "        for node in G.nodes:\n",
    "            K.nodes[node]['labels'][1] = 0\n",
    "            for x in G.neighbors(node):\n",
    "                K.nodes[node]['labels'][1]  += G.nodes[x]['labels'][1]\n",
    "        graphs[i] = K "
   ]
  },
  {
   "cell_type": "code",
   "execution_count": 5,
   "metadata": {},
   "outputs": [],
   "source": [
    "for i in range(1):\n",
    "    morgan_index(train_graphs)\n",
    "    morgan_index(test_graphs)"
   ]
  },
  {
   "cell_type": "code",
   "execution_count": 6,
   "metadata": {},
   "outputs": [],
   "source": [
    "one_train = []\n",
    "zero_train = []\n",
    "for (i,G) in enumerate(train_graphs):\n",
    "    if(train_labels[i] == 0):\n",
    "        zero_train.append(G)\n",
    "    else:\n",
    "        one_train.append(G)    "
   ]
  },
  {
   "cell_type": "code",
   "execution_count": 7,
   "metadata": {},
   "outputs": [],
   "source": [
    "n = 6000\n",
    "train_graphs = one_train\n",
    "train_labels = [1]*len(one_train)\n",
    "for G in zero_train:\n",
    "    if(len(train_graphs) == n):\n",
    "        break\n",
    "    train_graphs.append(G)\n",
    "    train_labels.append(0)\n"
   ]
  },
  {
   "cell_type": "code",
   "execution_count": 8,
   "metadata": {},
   "outputs": [],
   "source": [
    "zero_train = zero_train[n:]\n",
    "y_zeros = np.zeros(len(zero_train))"
   ]
  },
  {
   "cell_type": "code",
   "execution_count": 9,
   "metadata": {},
   "outputs": [
    {
     "data": {
      "text/plain": [
       "0"
      ]
     },
     "execution_count": 9,
     "metadata": {},
     "output_type": "execute_result"
    }
   ],
   "source": [
    "len(zero_train)"
   ]
  },
  {
   "cell_type": "code",
   "execution_count": 10,
   "metadata": {},
   "outputs": [],
   "source": [
    "randomWalk = WalkKernel.WalkKernel(maxK = 100)  \n",
    "shortestPath = ShortestPathKernel.ShortestPath()\n",
    "\n",
    "#K_train = shortestPath.compute_kernel(train_graphs,train_graphs)  + randomWalk.compute_kernel(train_graphs,train_graphs)\n"
   ]
  },
  {
   "cell_type": "code",
   "execution_count": 11,
   "metadata": {},
   "outputs": [],
   "source": [
    "from numpy import loadtxt\n",
    "K_train = loadtxt('precomputed_kernels/train_morgan_index_1.csv', delimiter=',')\n",
    "K_test = loadtxt('precomputed_kernels/test_morgan_index_1.csv', delimiter=',')"
   ]
  },
  {
   "cell_type": "code",
   "execution_count": 12,
   "metadata": {},
   "outputs": [
    {
     "name": "stderr",
     "output_type": "stream",
     "text": [
      "100%|██████████| 5/5 [00:55<00:00, 11.09s/it]"
     ]
    },
    {
     "name": "stdout",
     "output_type": "stream",
     "text": [
      "[0.9205736576664465, 0.920352571352263, 0.920143916517009, 0.9197528703370784, 0.9198265260461825]\n",
      "1.0 0.9205736576664465\n"
     ]
    },
    {
     "name": "stderr",
     "output_type": "stream",
     "text": [
      "\n"
     ]
    }
   ],
   "source": [
    "from sklearn.model_selection import cross_val_score\n",
    "from sklearn.svm import SVC\n",
    "from sklearn.model_selection import StratifiedKFold\n",
    "from sklearn.model_selection import KFold\n",
    "from tqdm import tqdm\n",
    "\n",
    "c = np.arange(1,1.5,0.1)\n",
    "scores = []\n",
    "for C in tqdm(c):\n",
    "    for i in range(2):\n",
    "        s = []\n",
    "        skf = KFold(n_splits=5, random_state=i, shuffle=True)\n",
    "        score = cross_val_score(SVC(C = C, kernel='precomputed',  probability=True, class_weight='balanced'), K_train, train_labels, cv=skf, scoring = 'roc_auc')\n",
    "        s.append(score.reshape(-1))\n",
    "    scores.append(np.mean(s))\n",
    "\n",
    "C =  c[np.argsort(scores)[-1]]\n",
    "print(scores)\n",
    "print(C,np.sort(scores)[-1])"
   ]
  },
  {
   "cell_type": "code",
   "execution_count": 13,
   "metadata": {},
   "outputs": [
    {
     "name": "stdout",
     "output_type": "stream",
     "text": [
      "1.0 0.9205736576664465\n"
     ]
    }
   ],
   "source": [
    "print(C,np.sort(scores)[-1])"
   ]
  },
  {
   "attachments": {},
   "cell_type": "markdown",
   "metadata": {},
   "source": [
    "## Make Prediction"
   ]
  },
  {
   "cell_type": "code",
   "execution_count": 14,
   "metadata": {},
   "outputs": [],
   "source": [
    "#K_test = shortestPath.compute_kernel(test_graphs,train_graphs)  + randomWalk.compute_kernel(test_graphs,train_graphs) "
   ]
  },
  {
   "cell_type": "code",
   "execution_count": 15,
   "metadata": {},
   "outputs": [],
   "source": [
    "y_train = train_labels\n",
    "y_train = np.array(y_train).reshape(-1)\n",
    "y_train = 2*y_train - 1 "
   ]
  },
  {
   "cell_type": "code",
   "execution_count": 16,
   "metadata": {},
   "outputs": [
    {
     "data": {
      "text/plain": [
       "(array([-1,  1]), array([5445,  555], dtype=int64))"
      ]
     },
     "execution_count": 16,
     "metadata": {},
     "output_type": "execute_result"
    }
   ],
   "source": [
    "np.unique(y_train,return_counts=True)"
   ]
  },
  {
   "cell_type": "code",
   "execution_count": 17,
   "metadata": {},
   "outputs": [
    {
     "name": "stdout",
     "output_type": "stream",
     "text": [
      "     pcost       dcost       gap    pres   dres\n",
      " 0: -4.9040e+02 -1.0925e+04  5e+04  2e+00  2e-13\n",
      " 1: -4.1242e+02 -5.6474e+03  7e+03  2e-01  3e-13\n",
      " 2: -4.0959e+02 -1.3966e+03  1e+03  2e-02  2e-13\n",
      " 3: -4.4506e+02 -7.6572e+02  3e+02  4e-03  2e-13\n",
      " 4: -4.6622e+02 -5.9521e+02  1e+02  9e-04  2e-13\n",
      " 5: -4.7798e+02 -5.2102e+02  4e+01  7e-14  3e-13\n",
      " 6: -4.8309e+02 -4.9817e+02  2e+01  5e-14  3e-13\n",
      " 7: -4.8532e+02 -4.9011e+02  5e+00  1e-13  3e-13\n",
      " 8: -4.8620e+02 -4.8749e+02  1e+00  3e-13  2e-13\n",
      " 9: -4.8646e+02 -4.8683e+02  4e-01  8e-13  3e-13\n",
      "10: -4.8655e+02 -4.8661e+02  6e-02  6e-13  3e-13\n",
      "11: -4.8657e+02 -4.8657e+02  2e-03  6e-14  3e-13\n",
      "12: -4.8657e+02 -4.8657e+02  2e-04  3e-13  3e-13\n",
      "Optimal solution found.\n",
      "Classification accuracy: 0.99\n"
     ]
    }
   ],
   "source": [
    "from sklearn.svm import SVC\n",
    "from sklearn.metrics import accuracy_score\n",
    "#clf = SVC(C = C, kernel='precomputed',  probability=True, class_weight='balanced')\n",
    "clf = models.KernelSVC(C = 1)\n",
    "# Fit on the train Kernel\n",
    "clf.fit(K_train, y_train)\n",
    "\n",
    "# Predict and test.\n",
    "y_pred = clf.predict(K_train)\n",
    "\n",
    "print(\"Classification accuracy: %0.2f\" % accuracy_score(y_train, y_pred))"
   ]
  },
  {
   "cell_type": "code",
   "execution_count": 18,
   "metadata": {},
   "outputs": [
    {
     "data": {
      "text/plain": [
       "array([-0.90894634, -0.24840027, -0.89220016, ..., -0.92396126,\n",
       "        0.75024512, -1.029548  ])"
      ]
     },
     "execution_count": 18,
     "metadata": {},
     "output_type": "execute_result"
    }
   ],
   "source": [
    "y_pred = clf.predict_proba(K_test)\n",
    "y_pred = np.log(y_pred/(1-y_pred))\n",
    "y_pred"
   ]
  },
  {
   "cell_type": "code",
   "execution_count": 19,
   "metadata": {},
   "outputs": [],
   "source": [
    "sub = pd.DataFrame()\n",
    "sub['Id']= np.arange(1,len(y_pred)+1)\n",
    "sub['Predicted'] = y_pred\n",
    "sub.to_csv(\"submissions/sub_test.csv\",index=False)"
   ]
  },
  {
   "cell_type": "code",
   "execution_count": 23,
   "metadata": {},
   "outputs": [
    {
     "data": {
      "text/plain": [
       "0.015"
      ]
     },
     "execution_count": 23,
     "metadata": {},
     "output_type": "execute_result"
    }
   ],
   "source": [
    "y_sub = pd.read_csv(\"new_submissions/sub_full_dataset.csv\")\n",
    "y_sub = np.array(y_sub['Predicted'])\n",
    "y_sub[y_sub< 0 ] = 0\n",
    "y_sub[y_sub>0] = 1\n",
    "np.sum(y_sub)/len(y_sub)"
   ]
  },
  {
   "cell_type": "code",
   "execution_count": 21,
   "metadata": {},
   "outputs": [
    {
     "data": {
      "text/plain": [
       "0.1255"
      ]
     },
     "execution_count": 21,
     "metadata": {},
     "output_type": "execute_result"
    }
   ],
   "source": [
    "y_sub = pd.read_csv(\"submissions/sub_test.csv\")\n",
    "y_sub = np.array(y_sub['Predicted'])\n",
    "y_sub[y_sub< 0 ] = 0\n",
    "y_sub[y_sub>0] = 1\n",
    "np.sum(y_sub)/len(y_sub)"
   ]
  },
  {
   "cell_type": "code",
   "execution_count": 22,
   "metadata": {},
   "outputs": [
    {
     "name": "stdout",
     "output_type": "stream",
     "text": [
      "Note: you may need to restart the kernel to use updated packages.\n"
     ]
    }
   ],
   "source": [
    "%pip freeze > requirement.txt"
   ]
  }
 ],
 "metadata": {
  "kernelspec": {
   "display_name": "Python 3",
   "language": "python",
   "name": "python3"
  },
  "language_info": {
   "codemirror_mode": {
    "name": "ipython",
    "version": 3
   },
   "file_extension": ".py",
   "mimetype": "text/x-python",
   "name": "python",
   "nbconvert_exporter": "python",
   "pygments_lexer": "ipython3",
   "version": "3.10.11"
  },
  "orig_nbformat": 4,
  "vscode": {
   "interpreter": {
    "hash": "fbccc05dc4c888eb06191605395e1f3420714a4fab311b29cb06bebce36a9c54"
   }
  }
 },
 "nbformat": 4,
 "nbformat_minor": 2
}
