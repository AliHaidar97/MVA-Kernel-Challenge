{
 "cells": [
  {
   "cell_type": "code",
   "execution_count": 1,
   "metadata": {},
   "outputs": [],
   "source": [
    "import pickle as pkl \n",
    "import pandas as pd\n",
    "import numpy as np\n",
    "import matplotlib.pyplot as plt\n",
    "import networkx as nx\n",
    "import utils\n",
    "import models\n",
    "import GraphKernel\n",
    "from grakel.kernels import NeighborhoodSubgraphPairwiseDistance\n"
   ]
  },
  {
   "cell_type": "code",
   "execution_count": 2,
   "metadata": {},
   "outputs": [],
   "source": [
    "path = 'data/'\n",
    "with open(path + 'training_data.pkl', 'rb') as file: \n",
    "    train_graphs = pkl.load(file) \n",
    "\n",
    "with open(path + 'test_data.pkl', 'rb') as file: \n",
    "    test_graphs = pkl.load(file) \n",
    "    \n",
    "with open(path + 'training_labels.pkl', 'rb') as file: \n",
    "    train_labels = pkl.load(file) "
   ]
  },
  {
   "cell_type": "code",
   "execution_count": null,
   "metadata": {},
   "outputs": [],
   "source": []
  },
  {
   "cell_type": "code",
   "execution_count": null,
   "metadata": {},
   "outputs": [],
   "source": [
    "sdfsdf"
   ]
  },
  {
   "cell_type": "code",
   "execution_count": 3,
   "metadata": {},
   "outputs": [
    {
     "name": "stderr",
     "output_type": "stream",
     "text": [
      "100%|██████████| 6000/6000 [00:02<00:00, 2868.78it/s]\n",
      "100%|██████████| 6000/6000 [00:02<00:00, 2884.65it/s]\n",
      "100%|██████████| 6000/6000 [00:01<00:00, 3221.40it/s]\n",
      "100%|██████████| 6000/6000 [00:01<00:00, 3095.45it/s]\n",
      "100%|██████████| 6000/6000 [06:07<00:00, 16.34it/s]\n"
     ]
    },
    {
     "data": {
      "text/plain": [
       "array([[ 3408.,  6741.,  3279., ...,   116.,  2790.,   988.],\n",
       "       [ 6741., 16082.,  6977., ...,   112.,  5484.,  1799.],\n",
       "       [ 3279.,  6977.,  3440., ...,    92.,  2774.,   917.],\n",
       "       ...,\n",
       "       [  116.,   112.,    92., ...,   120.,   172.,   166.],\n",
       "       [ 2790.,  5484.,  2774., ...,   172.,  3160.,  1140.],\n",
       "       [  988.,  1799.,   917., ...,   166.,  1140.,   944.]])"
      ]
     },
     "execution_count": 3,
     "metadata": {},
     "output_type": "execute_result"
    }
   ],
   "source": [
    "randomWalk = GraphKernel.ShortestPath()#GraphKernel.RandomWalkKernel(n_iterations = 2)\n",
    "K_train = randomWalk.compute_kernel(train_graphs,train_graphs)\n",
    "K_train"
   ]
  },
  {
   "cell_type": "code",
   "execution_count": 4,
   "metadata": {},
   "outputs": [
    {
     "name": "stderr",
     "output_type": "stream",
     "text": [
      "100%|██████████| 2000/2000 [00:01<00:00, 1313.81it/s]\n",
      "100%|██████████| 6000/6000 [00:02<00:00, 2824.03it/s]\n",
      "100%|██████████| 2000/2000 [00:01<00:00, 1468.60it/s]\n",
      "100%|██████████| 6000/6000 [00:01<00:00, 3127.42it/s]\n",
      "100%|██████████| 2000/2000 [02:46<00:00, 12.03it/s]\n"
     ]
    }
   ],
   "source": [
    "K_test = randomWalk.compute_kernel(test_graphs,train_graphs)"
   ]
  },
  {
   "cell_type": "code",
   "execution_count": 5,
   "metadata": {},
   "outputs": [
    {
     "data": {
      "text/plain": [
       "array([0, 0, 0, ..., 0, 0, 0], dtype=int64)"
      ]
     },
     "execution_count": 5,
     "metadata": {},
     "output_type": "execute_result"
    }
   ],
   "source": [
    "y_train = train_labels\n",
    "y_train"
   ]
  },
  {
   "cell_type": "code",
   "execution_count": 6,
   "metadata": {},
   "outputs": [],
   "source": [
    "from sklearn.svm import SVC\n",
    "from sklearn.metrics import accuracy_score\n",
    "clf = SVC(C = 5, kernel='precomputed',  probability=True)\n",
    "\n",
    "# Fit on the train Kernel\n",
    "clf.fit(K_train, y_train)\n",
    "\n",
    "# Predict and test.\n",
    "y_pred = clf.predict(K_train)\n",
    "\n",
    "print(\"Classification accuracy: %0.2f\" % accuracy_score(y_train, y_pred))"
   ]
  },
  {
   "cell_type": "code",
   "execution_count": null,
   "metadata": {},
   "outputs": [
    {
     "data": {
      "image/png": "[encoded data removed]",
      "text/plain": [
       "<Figure size 640x480 with 2 Axes>"
      ]
     },
     "metadata": {},
     "output_type": "display_data"
    }
   ],
   "source": [
    "from sklearn.metrics import confusion_matrix\n",
    "from sklearn import metrics\n",
    "y_pred = clf.predict(K_train)\n",
    "#tn, fp, fn, tp = confusion_matrix(y_train, y_pred,normalize='true').ravel()\n",
    "confusion_matrix = confusion_matrix(y_train, y_pred,normalize='true')\n",
    "cm_display = metrics.ConfusionMatrixDisplay(confusion_matrix = confusion_matrix, display_labels = [False, True])\n",
    "cm_display.plot()\n",
    "plt.show()"
   ]
  },
  {
   "cell_type": "code",
   "execution_count": null,
   "metadata": {},
   "outputs": [],
   "source": [
    "from sklearn.metrics import plot_roc_curve, auc \n",
    "plot_roc_curve(clf, K_train, y_train)"
   ]
  },
  {
   "cell_type": "code",
   "execution_count": null,
   "metadata": {},
   "outputs": [
    {
     "data": {
      "text/plain": [
       "array([2.2731275 , 1.82089445, 2.05162844, ..., 3.17205867, 1.98600037,\n",
       "       4.39832262])"
      ]
     },
     "execution_count": 22,
     "metadata": {},
     "output_type": "execute_result"
    }
   ],
   "source": [
    "y_pred = clf.predict_proba(K_train)[:,0]\n",
    "y_pred = np.log(y_pred/(1-y_pred))\n",
    "y_pred"
   ]
  },
  {
   "cell_type": "code",
   "execution_count": null,
   "metadata": {},
   "outputs": [],
   "source": []
  }
 ],
 "metadata": {
  "kernelspec": {
   "display_name": "Python 3",
   "language": "python",
   "name": "python3"
  },
  "language_info": {
   "codemirror_mode": {
    "name": "ipython",
    "version": 3
   },
   "file_extension": ".py",
   "mimetype": "text/x-python",
   "name": "python",
   "nbconvert_exporter": "python",
   "pygments_lexer": "ipython3",
   "version": "3.10.10"
  },
  "orig_nbformat": 4
 },
 "nbformat": 4,
 "nbformat_minor": 2
}
