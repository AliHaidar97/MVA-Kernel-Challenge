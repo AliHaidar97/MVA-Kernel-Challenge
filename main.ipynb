{
 "cells": [
  {
   "cell_type": "code",
   "execution_count": null,
   "metadata": {},
   "outputs": [],
   "source": [
    "import pickle as pkl \n",
    "import pandas as pd\n",
    "import numpy as np\n",
    "import matplotlib.pyplot as plt\n",
    "import networkx as nx\n",
    "import utils\n",
    "import models\n",
    "import GraphKernel"
   ]
  },
  {
   "cell_type": "code",
   "execution_count": null,
   "metadata": {},
   "outputs": [],
   "source": [
    "path = 'data/'\n",
    "with open(path + 'training_data.pkl', 'rb') as file: \n",
    "    train_graphs = pkl.load(file) \n",
    "\n",
    "with open(path + 'test_data.pkl', 'rb') as file: \n",
    "    test_graphs = pkl.load(file) \n",
    "    \n",
    "with open(path + 'training_labels.pkl', 'rb') as file: \n",
    "    train_labels = pkl.load(file) "
   ]
  },
  {
   "cell_type": "code",
   "execution_count": null,
   "metadata": {},
   "outputs": [],
   "source": [
    "for G in train_graphs:\n",
    "    for e in G.nodes:\n",
    "        G.nodes[e]['labels'] = [G.nodes[e]['labels'][0], 1]\n",
    "\n",
    "for G in test_graphs:\n",
    "    for e in G.nodes:\n",
    "        G.nodes[e]['labels'] = [G.nodes[e]['labels'][0], 1]\n",
    "\n",
    "for G in train_graphs:\n",
    "    for e in G.edges:\n",
    "        G.edges[e]['labels'] = G.edges[e]['labels'][0] + 1\n",
    "\n",
    "for G in test_graphs:\n",
    "    for e in G.edges:\n",
    "        G.edges[e]['labels'] = G.edges[e]['labels'][0] + 1\n",
    "        "
   ]
  },
  {
   "cell_type": "code",
   "execution_count": null,
   "metadata": {},
   "outputs": [],
   "source": [
    "import copy\n",
    "def morgan_index(graphs):\n",
    "    \n",
    "    for (i,G) in enumerate(graphs):\n",
    "        K = copy.deepcopy(G)\n",
    "        for node in G.nodes:\n",
    "            K.nodes[node]['labels'][1] = 0\n",
    "            for x in G.neighbors(node):\n",
    "                K.nodes[node]['labels'][1]  += G.nodes[x]['labels'][1]\n",
    "        graphs[i] = K "
   ]
  },
  {
   "cell_type": "code",
   "execution_count": null,
   "metadata": {},
   "outputs": [],
   "source": [
    "for i in range(1):\n",
    "    morgan_index(train_graphs)\n",
    "    morgan_index(test_graphs)"
   ]
  },
  {
   "cell_type": "code",
   "execution_count": null,
   "metadata": {},
   "outputs": [],
   "source": [
    "one_train = []\n",
    "zero_train = []\n",
    "for (i,G) in enumerate(train_graphs):\n",
    "    if(train_labels[i] == 0):\n",
    "        zero_train.append(G)\n",
    "    else:\n",
    "        one_train.append(G)    "
   ]
  },
  {
   "cell_type": "code",
   "execution_count": null,
   "metadata": {},
   "outputs": [],
   "source": [
    "n = 6000\n",
    "train_graphs = one_train\n",
    "train_labels = [1]*len(one_train)\n",
    "for G in zero_train:\n",
    "    if(len(train_graphs) == n):\n",
    "        break\n",
    "    train_graphs.append(G)\n",
    "    train_labels.append(0)\n"
   ]
  },
  {
   "cell_type": "code",
   "execution_count": null,
   "metadata": {},
   "outputs": [],
   "source": [
    "zero_train = zero_train[n:]\n",
    "y_zeros = np.zeros(len(zero_train))"
   ]
  },
  {
   "cell_type": "code",
   "execution_count": null,
   "metadata": {},
   "outputs": [],
   "source": [
    "len(zero_train)"
   ]
  },
  {
   "cell_type": "code",
   "execution_count": null,
   "metadata": {},
   "outputs": [],
   "source": [
    "randomWalk = GraphKernel.WalkKernel(maxK = 100)  \n",
    "shortestPath = GraphKernel.ShortestPath()\n",
    "\n",
    "K_train = shortestPath.compute_kernel(train_graphs,train_graphs)  #+ randomWalk.compute_kernel(train_graphs,train_graphs)\n"
   ]
  },
  {
   "cell_type": "code",
   "execution_count": null,
   "metadata": {},
   "outputs": [],
   "source": [
    "from sklearn.model_selection import cross_val_score\n",
    "from sklearn.svm import SVC\n",
    "from sklearn.model_selection import StratifiedKFold\n",
    "from sklearn.model_selection import KFold\n",
    "from tqdm import tqdm\n",
    "\n",
    "c = np.arange(1,1.5,0.01)\n",
    "scores = []\n",
    "for C in tqdm(c):\n",
    "    for i in range(2):\n",
    "        s = []\n",
    "        skf = KFold(n_splits=5, random_state=i, shuffle=True)\n",
    "        score = cross_val_score(SVC(C = C, kernel='precomputed',  probability=True, class_weight='balanced'), K_train, train_labels, cv=skf, scoring = 'roc_auc')\n",
    "        s.append(score.reshape(-1))\n",
    "    scores.append(np.mean(s))\n",
    "\n",
    "C =  c[np.argsort(scores)[-1]]\n",
    "print(scores)\n",
    "print(C,np.sort(scores)[-1])"
   ]
  },
  {
   "cell_type": "code",
   "execution_count": null,
   "metadata": {},
   "outputs": [],
   "source": [
    "print(C,np.sort(scores)[-1])"
   ]
  },
  {
   "attachments": {},
   "cell_type": "markdown",
   "metadata": {},
   "source": [
    "## Make Prediction"
   ]
  },
  {
   "cell_type": "code",
   "execution_count": 147,
   "metadata": {},
   "outputs": [
    {
     "name": "stderr",
     "output_type": "stream",
     "text": [
      "100%|██████████| 2000/2000 [00:18<00:00, 105.37it/s]\n",
      "100%|██████████| 6000/6000 [00:23<00:00, 256.22it/s]\n",
      "100%|██████████| 2000/2000 [07:44<00:00,  4.31it/s]\n"
     ]
    }
   ],
   "source": [
    "K_test = shortestPath.compute_kernel(test_graphs,train_graphs)  #randomWalk.compute_kernel(test_graphs,train_graphs) + "
   ]
  },
  {
   "cell_type": "code",
   "execution_count": 231,
   "metadata": {},
   "outputs": [],
   "source": [
    "import cvxopt\n",
    "import cvxopt.solvers\n",
    "from sklearn.base import BaseEstimator, ClassifierMixin\n",
    "\n",
    "def to_binary(y):\n",
    "    return ((y + 1) / 2).astype(int)\n",
    "\n",
    "def sigmoid(x):\n",
    "    return 1/(1 + np.exp(-x))\n",
    "\n",
    "class KernelSVC(BaseEstimator, ClassifierMixin):\n",
    "    \n",
    "    def __init__(self, C, epsilon = 1e-3):\n",
    "        self.type = 'non-linear'\n",
    "        self.C = C                                     \n",
    "        self.alpha = None\n",
    "        self.epsilon = epsilon\n",
    "        self.norm_f = None\n",
    "        self.a = None\n",
    "       \n",
    "    \n",
    "    def fit(self, K_train, y):\n",
    "        y = np.array(y)\n",
    "       \n",
    "        #### You might define here any variable needed for the rest of the code\n",
    "        N = len(y)\n",
    "        \n",
    "        # Lagrange dual problem\n",
    "        def loss(alpha):\n",
    "            #'''--------------dual loss ------------------ '''\n",
    "            return (1/2)*((np.diag(y)@alpha.reshape(-1,1)).T@K_train@(np.diag(y)@alpha.reshape(-1,1))) - np.sum(alpha)\n",
    "        \n",
    "        # Partial derivate of Ld on alpha\n",
    "        def grad_loss(alpha):\n",
    "            # '''----------------partial derivative of the dual loss wrt alpha -----------------'''\n",
    "            return np.diag(y)@K_train@np.diag(y)@alpha.reshape(-1,1) - 1\n",
    "        \n",
    "      \n",
    "        # Set up quadratic programming problem\n",
    "        P = cvxopt.matrix(np.outer(y, y) * K_train)\n",
    "        q = cvxopt.matrix(-1 * np.ones(N))\n",
    "        G = cvxopt.matrix(np.vstack((-1 * np.eye(N), np.eye(N))))\n",
    "        h = cvxopt.matrix(np.hstack((np.zeros(N), self.C * np.ones(N))))\n",
    "        A = cvxopt.matrix(y.reshape(1, -1)) * 1.0\n",
    "        b = cvxopt.matrix(np.zeros(1))\n",
    "        # Solve the quadratic program using cvxopt       \n",
    "        cvxopt.solvers.options['show_progress'] = True\n",
    "        solution = cvxopt.solvers.qp(P, q, G, h, A, b)\n",
    "        alpha = np.array(solution['x']).flatten()\n",
    "        \n",
    "        \n",
    "        #clip\n",
    "        self.alpha[self.alpha < 1e-5] = 0\n",
    "        ## Assign the required attributes\n",
    "        self.a = np.diag(y)@self.alpha \n",
    "        f = K_train@self.a\n",
    "        mask = ((self.alpha < self.C) & (self.alpha > 0))\n",
    "        mask = (self.alpha < self.C)\n",
    "        self.b =  np.median((1 - y[mask]*f[mask])/y[mask]) #''' -----------------offset of the classifier------------------ '''\n",
    "        self.norm_f = self.a.T@K_train@self.a   #'''------------------------RKHS norm of the function f ------------------------------'''\n",
    "       \n",
    "\n",
    "    ### Implementation of the separting function $f$ \n",
    "    def separating_function(self, K_test):\n",
    "        # Input : matrix x of shape N data points times d dimension\n",
    "        # Output: vector of size N\n",
    "        return K_test@self.a\n",
    "    \n",
    "    \n",
    "    def predict(self, K_test):\n",
    "        \"\"\" Predict y values in {-1, 1} \"\"\"\n",
    "        d = self.separating_function(K_test)\n",
    "        return 2 * ((d+self.b)> 0) - 1\n",
    "    \n",
    "    def predict_proba(self, X):\n",
    "        d = self.separating_function(X)\n",
    "        return sigmoid(d + self.b)\n",
    "    \n",
    "    \n"
   ]
  },
  {
   "cell_type": "code",
   "execution_count": 233,
   "metadata": {},
   "outputs": [],
   "source": [
    "y_train = train_labels\n",
    "y_train = np.array(y_train).reshape(-1)\n",
    "y_train = 2*y_train - 1 "
   ]
  },
  {
   "cell_type": "code",
   "execution_count": 236,
   "metadata": {},
   "outputs": [
    {
     "data": {
      "text/plain": [
       "(array([-1,  1]), array([5445,  555], dtype=int64))"
      ]
     },
     "execution_count": 236,
     "metadata": {},
     "output_type": "execute_result"
    }
   ],
   "source": [
    "np.unique(y_train,return_counts=True)"
   ]
  },
  {
   "cell_type": "code",
   "execution_count": 237,
   "metadata": {},
   "outputs": [
    {
     "name": "stdout",
     "output_type": "stream",
     "text": [
      "     pcost       dcost       gap    pres   dres\n",
      " 0: -9.8717e+01 -8.6443e+03  4e+04  2e+00  4e-12\n",
      " 1: -6.7626e+01 -4.0516e+03  8e+03  3e-01  5e-12\n",
      " 2: -6.3199e+01 -1.2327e+03  2e+03  6e-02  5e-12\n",
      " 3: -6.5401e+01 -5.4400e+02  7e+02  2e-02  4e-12\n",
      " 4: -6.8633e+01 -2.2187e+02  2e+02  4e-03  4e-12\n",
      " 5: -7.1537e+01 -1.2595e+02  7e+01  1e-03  4e-12\n",
      " 6: -7.3170e+01 -9.6515e+01  3e+01  3e-04  3e-12\n",
      " 7: -7.4586e+01 -8.4774e+01  1e+01  8e-05  3e-12\n",
      " 8: -7.5791e+01 -7.7920e+01  2e+00  2e-14  4e-12\n",
      " 9: -7.6205e+01 -7.6956e+01  8e-01  1e-13  3e-12\n",
      "10: -7.6378e+01 -7.6584e+01  2e-01  2e-14  4e-12\n",
      "11: -7.6434e+01 -7.6478e+01  4e-02  9e-14  4e-12\n",
      "12: -7.6450e+01 -7.6452e+01  2e-03  6e-14  4e-12\n",
      "13: -7.6450e+01 -7.6450e+01  1e-04  4e-15  4e-12\n",
      "14: -7.6450e+01 -7.6450e+01  3e-06  8e-15  4e-12\n",
      "Optimal solution found.\n"
     ]
    },
    {
     "ename": "TypeError",
     "evalue": "'<' not supported between instances of 'NoneType' and 'float'",
     "output_type": "error",
     "traceback": [
      "\u001b[1;31m---------------------------------------------------------------------------\u001b[0m",
      "\u001b[1;31mTypeError\u001b[0m                                 Traceback (most recent call last)",
      "\u001b[1;32mc:\\Users\\aliha\\OneDrive\\Desktop\\MVA\\P2-Kernel Methods\\project\\main.ipynb Cell 18\u001b[0m in \u001b[0;36m6\n\u001b[0;32m      <a href='vscode-notebook-cell:/c%3A/Users/aliha/OneDrive/Desktop/MVA/P2-Kernel%20Methods/project/main.ipynb#X21sZmlsZQ%3D%3D?line=3'>4</a>\u001b[0m clf \u001b[39m=\u001b[39m KernelSVC(C\u001b[39m=\u001b[39m\u001b[39m1\u001b[39m)\n\u001b[0;32m      <a href='vscode-notebook-cell:/c%3A/Users/aliha/OneDrive/Desktop/MVA/P2-Kernel%20Methods/project/main.ipynb#X21sZmlsZQ%3D%3D?line=4'>5</a>\u001b[0m \u001b[39m# Fit on the train Kernel\u001b[39;00m\n\u001b[1;32m----> <a href='vscode-notebook-cell:/c%3A/Users/aliha/OneDrive/Desktop/MVA/P2-Kernel%20Methods/project/main.ipynb#X21sZmlsZQ%3D%3D?line=5'>6</a>\u001b[0m clf\u001b[39m.\u001b[39mfit(K_train, y_train)\n\u001b[0;32m      <a href='vscode-notebook-cell:/c%3A/Users/aliha/OneDrive/Desktop/MVA/P2-Kernel%20Methods/project/main.ipynb#X21sZmlsZQ%3D%3D?line=7'>8</a>\u001b[0m \u001b[39m# Predict and test.\u001b[39;00m\n\u001b[0;32m      <a href='vscode-notebook-cell:/c%3A/Users/aliha/OneDrive/Desktop/MVA/P2-Kernel%20Methods/project/main.ipynb#X21sZmlsZQ%3D%3D?line=8'>9</a>\u001b[0m y_pred \u001b[39m=\u001b[39m clf\u001b[39m.\u001b[39mpredict(K_train)\n",
      "\u001b[1;32mc:\\Users\\aliha\\OneDrive\\Desktop\\MVA\\P2-Kernel Methods\\project\\main.ipynb Cell 18\u001b[0m in \u001b[0;36m5\n\u001b[0;32m     <a href='vscode-notebook-cell:/c%3A/Users/aliha/OneDrive/Desktop/MVA/P2-Kernel%20Methods/project/main.ipynb#X21sZmlsZQ%3D%3D?line=48'>49</a>\u001b[0m alpha \u001b[39m=\u001b[39m np\u001b[39m.\u001b[39mravel(solution[\u001b[39m'\u001b[39m\u001b[39mx\u001b[39m\u001b[39m'\u001b[39m])\n\u001b[0;32m     <a href='vscode-notebook-cell:/c%3A/Users/aliha/OneDrive/Desktop/MVA/P2-Kernel%20Methods/project/main.ipynb#X21sZmlsZQ%3D%3D?line=51'>52</a>\u001b[0m \u001b[39m#clip\u001b[39;00m\n\u001b[1;32m---> <a href='vscode-notebook-cell:/c%3A/Users/aliha/OneDrive/Desktop/MVA/P2-Kernel%20Methods/project/main.ipynb#X21sZmlsZQ%3D%3D?line=52'>53</a>\u001b[0m \u001b[39mself\u001b[39m\u001b[39m.\u001b[39malpha[\u001b[39mself\u001b[39;49m\u001b[39m.\u001b[39;49malpha \u001b[39m<\u001b[39;49m \u001b[39m1e-5\u001b[39;49m] \u001b[39m=\u001b[39m \u001b[39m0\u001b[39m\n\u001b[0;32m     <a href='vscode-notebook-cell:/c%3A/Users/aliha/OneDrive/Desktop/MVA/P2-Kernel%20Methods/project/main.ipynb#X21sZmlsZQ%3D%3D?line=53'>54</a>\u001b[0m \u001b[39m## Assign the required attributes\u001b[39;00m\n\u001b[0;32m     <a href='vscode-notebook-cell:/c%3A/Users/aliha/OneDrive/Desktop/MVA/P2-Kernel%20Methods/project/main.ipynb#X21sZmlsZQ%3D%3D?line=54'>55</a>\u001b[0m \u001b[39mself\u001b[39m\u001b[39m.\u001b[39ma \u001b[39m=\u001b[39m np\u001b[39m.\u001b[39mdiag(y)\u001b[39m@self\u001b[39m\u001b[39m.\u001b[39malpha \n",
      "\u001b[1;31mTypeError\u001b[0m: '<' not supported between instances of 'NoneType' and 'float'"
     ]
    }
   ],
   "source": [
    "from sklearn.svm import SVC\n",
    "from sklearn.metrics import accuracy_score\n",
    "clf = SVC(C = C, kernel='precomputed',  probability=True, class_weight='balanced')\n",
    "clf = KernelSVC(C=1)\n",
    "# Fit on the train Kernel\n",
    "clf.fit(K_train, y_train)\n",
    "\n",
    "# Predict and test.\n",
    "y_pred = clf.predict(K_train)\n",
    "\n",
    "print(\"Classification accuracy: %0.2f\" % accuracy_score(y_train, y_pred))"
   ]
  },
  {
   "cell_type": "code",
   "execution_count": null,
   "metadata": {},
   "outputs": [
    {
     "name": "stdout",
     "output_type": "stream",
     "text": [
      "-1.0\n"
     ]
    }
   ],
   "source": [
    "print(clf.b)"
   ]
  },
  {
   "cell_type": "code",
   "execution_count": 209,
   "metadata": {},
   "outputs": [
    {
     "name": "stdout",
     "output_type": "stream",
     "text": [
      "Classification accuracy: 0.91\n"
     ]
    }
   ],
   "source": [
    "print(\"Classification accuracy: %0.2f\" % accuracy_score(y_train, y_pred))"
   ]
  },
  {
   "cell_type": "code",
   "execution_count": 210,
   "metadata": {},
   "outputs": [
    {
     "data": {
      "text/plain": [
       "(array([-1]), array([6000], dtype=int64))"
      ]
     },
     "execution_count": 210,
     "metadata": {},
     "output_type": "execute_result"
    }
   ],
   "source": [
    "np.unique(y_pred,return_counts=True)"
   ]
  },
  {
   "cell_type": "code",
   "execution_count": 160,
   "metadata": {},
   "outputs": [
    {
     "data": {
      "image/png": "[encoded data removed]",
      "text/plain": [
       "<Figure size 640x480 with 2 Axes>"
      ]
     },
     "metadata": {},
     "output_type": "display_data"
    }
   ],
   "source": [
    "from sklearn.metrics import confusion_matrix\n",
    "from sklearn import metrics\n",
    "y_pred = clf.predict(K_train)\n",
    "#tn, fp, fn, tp = confusion_matrix(y_train, y_pred,normalize='true').ravel()\n",
    "confusion_matrix = confusion_matrix(y_train, y_pred,normalize='true')\n",
    "cm_display = metrics.ConfusionMatrixDisplay(confusion_matrix = confusion_matrix, display_labels = [False, True])\n",
    "cm_display.plot()\n",
    "plt.show()"
   ]
  },
  {
   "cell_type": "code",
   "execution_count": 138,
   "metadata": {},
   "outputs": [
    {
     "name": "stderr",
     "output_type": "stream",
     "text": [
      "C:\\Users\\aliha\\AppData\\Local\\Packages\\PythonSoftwareFoundation.Python.3.10_qbz5n2kfra8p0\\LocalCache\\local-packages\\Python310\\site-packages\\sklearn\\utils\\deprecation.py:87: FutureWarning: Function plot_roc_curve is deprecated; Function :func:`plot_roc_curve` is deprecated in 1.0 and will be removed in 1.2. Use one of the class methods: :meth:`sklearn.metrics.RocCurveDisplay.from_predictions` or :meth:`sklearn.metrics.RocCurveDisplay.from_estimator`.\n",
      "  warnings.warn(msg, category=FutureWarning)\n"
     ]
    },
    {
     "ename": "AttributeError",
     "evalue": "'KernelSVC' object has no attribute 'classes_'",
     "output_type": "error",
     "traceback": [
      "\u001b[1;31m---------------------------------------------------------------------------\u001b[0m",
      "\u001b[1;31mAttributeError\u001b[0m                            Traceback (most recent call last)",
      "\u001b[1;32mc:\\Users\\aliha\\OneDrive\\Desktop\\MVA\\P2-Kernel Methods\\project\\main.ipynb Cell 22\u001b[0m in \u001b[0;36m2\n\u001b[0;32m      <a href='vscode-notebook-cell:/c%3A/Users/aliha/OneDrive/Desktop/MVA/P2-Kernel%20Methods/project/main.ipynb#X24sZmlsZQ%3D%3D?line=0'>1</a>\u001b[0m \u001b[39mfrom\u001b[39;00m \u001b[39msklearn\u001b[39;00m\u001b[39m.\u001b[39;00m\u001b[39mmetrics\u001b[39;00m \u001b[39mimport\u001b[39;00m plot_roc_curve, auc \n\u001b[1;32m----> <a href='vscode-notebook-cell:/c%3A/Users/aliha/OneDrive/Desktop/MVA/P2-Kernel%20Methods/project/main.ipynb#X24sZmlsZQ%3D%3D?line=1'>2</a>\u001b[0m plot_roc_curve(clf, K_train, y_train)\n",
      "File \u001b[1;32m~\\AppData\\Local\\Packages\\PythonSoftwareFoundation.Python.3.10_qbz5n2kfra8p0\\LocalCache\\local-packages\\Python310\\site-packages\\sklearn\\utils\\deprecation.py:88\u001b[0m, in \u001b[0;36mdeprecated._decorate_fun.<locals>.wrapped\u001b[1;34m(*args, **kwargs)\u001b[0m\n\u001b[0;32m     85\u001b[0m \u001b[39m@functools\u001b[39m\u001b[39m.\u001b[39mwraps(fun)\n\u001b[0;32m     86\u001b[0m \u001b[39mdef\u001b[39;00m \u001b[39mwrapped\u001b[39m(\u001b[39m*\u001b[39margs, \u001b[39m*\u001b[39m\u001b[39m*\u001b[39mkwargs):\n\u001b[0;32m     87\u001b[0m     warnings\u001b[39m.\u001b[39mwarn(msg, category\u001b[39m=\u001b[39m\u001b[39mFutureWarning\u001b[39;00m)\n\u001b[1;32m---> 88\u001b[0m     \u001b[39mreturn\u001b[39;00m fun(\u001b[39m*\u001b[39margs, \u001b[39m*\u001b[39m\u001b[39m*\u001b[39mkwargs)\n",
      "File \u001b[1;32m~\\AppData\\Local\\Packages\\PythonSoftwareFoundation.Python.3.10_qbz5n2kfra8p0\\LocalCache\\local-packages\\Python310\\site-packages\\sklearn\\metrics\\_plot\\roc_curve.py:451\u001b[0m, in \u001b[0;36mplot_roc_curve\u001b[1;34m(estimator, X, y, sample_weight, drop_intermediate, response_method, name, ax, pos_label, **kwargs)\u001b[0m\n\u001b[0;32m    371\u001b[0m \u001b[39m\"\"\"Plot Receiver operating characteristic (ROC) curve.\u001b[39;00m\n\u001b[0;32m    372\u001b[0m \n\u001b[0;32m    373\u001b[0m \u001b[39mExtra keyword arguments will be passed to matplotlib's `plot`.\u001b[39;00m\n\u001b[1;32m   (...)\u001b[0m\n\u001b[0;32m    447\u001b[0m \u001b[39m>>> plt.show()\u001b[39;00m\n\u001b[0;32m    448\u001b[0m \u001b[39m\"\"\"\u001b[39;00m\n\u001b[0;32m    449\u001b[0m check_matplotlib_support(\u001b[39m\"\u001b[39m\u001b[39mplot_roc_curve\u001b[39m\u001b[39m\"\u001b[39m)\n\u001b[1;32m--> 451\u001b[0m y_pred, pos_label \u001b[39m=\u001b[39m _get_response(\n\u001b[0;32m    452\u001b[0m     X, estimator, response_method, pos_label\u001b[39m=\u001b[39;49mpos_label\n\u001b[0;32m    453\u001b[0m )\n\u001b[0;32m    455\u001b[0m fpr, tpr, _ \u001b[39m=\u001b[39m roc_curve(\n\u001b[0;32m    456\u001b[0m     y,\n\u001b[0;32m    457\u001b[0m     y_pred,\n\u001b[1;32m   (...)\u001b[0m\n\u001b[0;32m    460\u001b[0m     drop_intermediate\u001b[39m=\u001b[39mdrop_intermediate,\n\u001b[0;32m    461\u001b[0m )\n\u001b[0;32m    462\u001b[0m roc_auc \u001b[39m=\u001b[39m auc(fpr, tpr)\n",
      "File \u001b[1;32m~\\AppData\\Local\\Packages\\PythonSoftwareFoundation.Python.3.10_qbz5n2kfra8p0\\LocalCache\\local-packages\\Python310\\site-packages\\sklearn\\metrics\\_plot\\base.py:103\u001b[0m, in \u001b[0;36m_get_response\u001b[1;34m(X, estimator, response_method, pos_label)\u001b[0m\n\u001b[0;32m    101\u001b[0m \u001b[39melse\u001b[39;00m:\n\u001b[0;32m    102\u001b[0m     class_idx \u001b[39m=\u001b[39m \u001b[39m1\u001b[39m\n\u001b[1;32m--> 103\u001b[0m     pos_label \u001b[39m=\u001b[39m estimator\u001b[39m.\u001b[39;49mclasses_[class_idx]\n\u001b[0;32m    105\u001b[0m \u001b[39mif\u001b[39;00m y_pred\u001b[39m.\u001b[39mndim \u001b[39m!=\u001b[39m \u001b[39m1\u001b[39m:  \u001b[39m# `predict_proba`\u001b[39;00m\n\u001b[0;32m    106\u001b[0m     y_pred_shape \u001b[39m=\u001b[39m y_pred\u001b[39m.\u001b[39mshape[\u001b[39m1\u001b[39m]\n",
      "\u001b[1;31mAttributeError\u001b[0m: 'KernelSVC' object has no attribute 'classes_'"
     ]
    }
   ],
   "source": [
    "from sklearn.metrics import plot_roc_curve, auc \n",
    "plot_roc_curve(clf, K_train, y_train)"
   ]
  },
  {
   "cell_type": "code",
   "execution_count": 169,
   "metadata": {},
   "outputs": [
    {
     "data": {
      "text/plain": [
       "array([-0.07839961,  1.88339152, -3.72623978, ..., -0.51166172,\n",
       "        2.35917314, -0.36969519])"
      ]
     },
     "execution_count": 169,
     "metadata": {},
     "output_type": "execute_result"
    }
   ],
   "source": [
    "y_pred = clf.predict_proba(K_test)\n",
    "y_pred = np.log(y_pred/(1-y_pred))\n",
    "y_pred"
   ]
  },
  {
   "cell_type": "code",
   "execution_count": 170,
   "metadata": {},
   "outputs": [],
   "source": [
    "sub = pd.DataFrame()\n",
    "sub['Id']= np.arange(1,len(y_pred)+1)\n",
    "sub['Predicted'] = y_pred\n",
    "sub.to_csv(\"submissions/sub.csv\",index=False)"
   ]
  },
  {
   "cell_type": "code",
   "execution_count": 171,
   "metadata": {},
   "outputs": [
    {
     "data": {
      "text/plain": [
       "0.443"
      ]
     },
     "execution_count": 171,
     "metadata": {},
     "output_type": "execute_result"
    }
   ],
   "source": [
    "y_sub = pd.read_csv(\"submissions/sub.csv\")\n",
    "y_sub = np.array(y_sub['Predicted'])\n",
    "y_sub[y_sub< 0 ] = 0\n",
    "y_sub[y_sub>0] = 1\n",
    "np.sum(y_sub)/len(y_sub)"
   ]
  },
  {
   "cell_type": "code",
   "execution_count": 172,
   "metadata": {},
   "outputs": [
    {
     "data": {
      "text/plain": [
       "0.111"
      ]
     },
     "execution_count": 172,
     "metadata": {},
     "output_type": "execute_result"
    }
   ],
   "source": [
    "y_sub = pd.read_csv(\"submissions/sub_089.csv\")\n",
    "y_sub = np.array(y_sub['Predicted'])\n",
    "y_sub[y_sub< 0 ] = 0\n",
    "y_sub[y_sub>0] = 1\n",
    "np.sum(y_sub)/len(y_sub)"
   ]
  },
  {
   "cell_type": "code",
   "execution_count": null,
   "metadata": {},
   "outputs": [],
   "source": []
  },
  {
   "cell_type": "code",
   "execution_count": null,
   "metadata": {},
   "outputs": [],
   "source": []
  }
 ],
 "metadata": {
  "kernelspec": {
   "display_name": "Python 3",
   "language": "python",
   "name": "python3"
  },
  "language_info": {
   "codemirror_mode": {
    "name": "ipython",
    "version": 3
   },
   "file_extension": ".py",
   "mimetype": "text/x-python",
   "name": "python",
   "nbconvert_exporter": "python",
   "pygments_lexer": "ipython3",
   "version": "3.10.11"
  },
  "orig_nbformat": 4,
  "vscode": {
   "interpreter": {
    "hash": "fbccc05dc4c888eb06191605395e1f3420714a4fab311b29cb06bebce36a9c54"
   }
  }
 },
 "nbformat": 4,
 "nbformat_minor": 2
}
